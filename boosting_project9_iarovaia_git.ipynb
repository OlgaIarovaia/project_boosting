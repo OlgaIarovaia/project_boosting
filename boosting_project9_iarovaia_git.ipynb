{
 "cells": [
  {
   "cell_type": "markdown",
   "id": "7a04b517",
   "metadata": {},
   "source": [
    "# Исходные данные"
   ]
  },
  {
   "cell_type": "markdown",
   "id": "41e10d8a",
   "metadata": {},
   "source": [
    "В распоряжении имеются данные о технических характеристиках, комплектации и ценах других автомобилей."
   ]
  },
  {
   "cell_type": "markdown",
   "id": "da27a601",
   "metadata": {},
   "source": [
    "*Признаки*\n",
    "\n",
    "- DateCrawled — дата скачивания анкеты из базы\n",
    "- VehicleType — тип автомобильного кузова\n",
    "- RegistrationYear — год регистрации автомобиля\n",
    "- Gearbox — тип коробки передач\n",
    "- Power — мощность (л. с.)\n",
    "- Model — модель автомобиля\n",
    "- Kilometer — пробег (км)\n",
    "- RegistrationMonth — месяц регистрации автомобиля\n",
    "- FuelType — тип топлива\n",
    "- Brand — марка автомобиля\n",
    "- Repaired — была машина в ремонте или нет\n",
    "- DateCreated — дата создания анкеты\n",
    "- NumberOfPictures — количество фотографий автомобиля\n",
    "- PostalCode — почтовый индекс владельца анкеты (пользователя)\n",
    "- LastSeen — дата последней активности пользователя\n",
    "\n",
    "\n",
    "*Целевой признак*\n",
    "\n",
    "- Price — цена (евро)"
   ]
  },
  {
   "cell_type": "markdown",
   "id": "4b184d6a",
   "metadata": {},
   "source": [
    "# Задачи"
   ]
  },
  {
   "cell_type": "markdown",
   "id": "68c6ea0f",
   "metadata": {},
   "source": [
    "**Главная задача**\n",
    "\n",
    "Построить модель, которая определит рыночную стоимость автомобиля. Модель будет использована в приложении через которое можно будет узнать рыночную стоимость своего автомобиля. \n",
    "\n",
    "Важные критерии:\n",
    " - качество предсказания;\n",
    " - время обучения модели;\n",
    " - время предсказания модели.\n",
    " \n",
    "**Этапы**\n",
    "\n",
    "1. Выполнить предобработку данных\n",
    "2. Подготовить выборки для обучения моделей\n",
    "3. Сравнить характеристики моделей: время обучения, время предсказания, точность результата. Использовать градиентный бустинг и простые модели.\n",
    "4. Выберать лучшую модель согласно критериям, проверить её качество на тестовой выборке - значение метрики RMSE должно быть меньше 2500."
   ]
  },
  {
   "cell_type": "markdown",
   "id": "b648c725",
   "metadata": {},
   "source": [
    "# Обзор данных"
   ]
  },
  {
   "cell_type": "code",
   "execution_count": 1,
   "id": "181550b6",
   "metadata": {},
   "outputs": [
    {
     "name": "stdout",
     "output_type": "stream",
     "text": [
      "Requirement already satisfied: lightgbm in c:\\users\\olgaiaro\\anaconda3\\lib\\site-packages (3.3.5)\n",
      "Requirement already satisfied: scipy in c:\\users\\olgaiaro\\anaconda3\\lib\\site-packages (from lightgbm) (1.7.3)\n",
      "Requirement already satisfied: numpy in c:\\users\\olgaiaro\\anaconda3\\lib\\site-packages (from lightgbm) (1.21.5)\n",
      "Requirement already satisfied: scikit-learn!=0.22.0 in c:\\users\\olgaiaro\\anaconda3\\lib\\site-packages (from lightgbm) (1.0.2)\n",
      "Requirement already satisfied: wheel in c:\\users\\olgaiaro\\anaconda3\\lib\\site-packages (from lightgbm) (0.37.1)\n",
      "Requirement already satisfied: joblib>=0.11 in c:\\users\\olgaiaro\\anaconda3\\lib\\site-packages (from scikit-learn!=0.22.0->lightgbm) (1.1.0)\n",
      "Requirement already satisfied: threadpoolctl>=2.0.0 in c:\\users\\olgaiaro\\anaconda3\\lib\\site-packages (from scikit-learn!=0.22.0->lightgbm) (2.2.0)\n",
      "Note: you may need to restart the kernel to use updated packages.\n"
     ]
    }
   ],
   "source": [
    "# установка библиотек\n",
    "\n",
    "%pip install lightgbm"
   ]
  },
  {
   "cell_type": "code",
   "execution_count": 2,
   "id": "18be2ded",
   "metadata": {},
   "outputs": [],
   "source": [
    "# выгрузка библиотек\n",
    "\n",
    "import pandas as pd\n",
    "import seaborn as sns\n",
    "import numpy as np\n",
    "import matplotlib.pyplot as plt\n",
    "import lightgbm as lgb\n",
    "\n",
    "from sklearn.preprocessing import OrdinalEncoder\n",
    "from sklearn.preprocessing import StandardScaler\n",
    "from sklearn.model_selection import train_test_split\n",
    "from sklearn.model_selection import GridSearchCV\n",
    "\n",
    "from sklearn.linear_model import LinearRegression\n",
    "from sklearn.tree import DecisionTreeRegressor\n",
    "from sklearn.ensemble import RandomForestRegressor\n",
    "\n",
    "from sklearn.metrics import mean_squared_error"
   ]
  },
  {
   "cell_type": "code",
   "execution_count": 3,
   "id": "1ee5c3b3",
   "metadata": {},
   "outputs": [],
   "source": [
    "# открытие файла\n",
    "\n",
    "try:\n",
    "    data = pd.read_csv('autos.csv')\n",
    "except:\n",
    "     data = pd.read_csv('https://code.s3.yandex.net/datasets/autos.csv')     "
   ]
  },
  {
   "cell_type": "code",
   "execution_count": 4,
   "id": "419dd2f2",
   "metadata": {},
   "outputs": [
    {
     "data": {
      "text/html": [
       "<div>\n",
       "<style scoped>\n",
       "    .dataframe tbody tr th:only-of-type {\n",
       "        vertical-align: middle;\n",
       "    }\n",
       "\n",
       "    .dataframe tbody tr th {\n",
       "        vertical-align: top;\n",
       "    }\n",
       "\n",
       "    .dataframe thead th {\n",
       "        text-align: right;\n",
       "    }\n",
       "</style>\n",
       "<table border=\"1\" class=\"dataframe\">\n",
       "  <thead>\n",
       "    <tr style=\"text-align: right;\">\n",
       "      <th></th>\n",
       "      <th>DateCrawled</th>\n",
       "      <th>Price</th>\n",
       "      <th>VehicleType</th>\n",
       "      <th>RegistrationYear</th>\n",
       "      <th>Gearbox</th>\n",
       "      <th>Power</th>\n",
       "      <th>Model</th>\n",
       "      <th>Kilometer</th>\n",
       "      <th>RegistrationMonth</th>\n",
       "      <th>FuelType</th>\n",
       "      <th>Brand</th>\n",
       "      <th>Repaired</th>\n",
       "      <th>DateCreated</th>\n",
       "      <th>NumberOfPictures</th>\n",
       "      <th>PostalCode</th>\n",
       "      <th>LastSeen</th>\n",
       "    </tr>\n",
       "  </thead>\n",
       "  <tbody>\n",
       "    <tr>\n",
       "      <th>0</th>\n",
       "      <td>2016-03-24 11:52:17</td>\n",
       "      <td>480</td>\n",
       "      <td>NaN</td>\n",
       "      <td>1993</td>\n",
       "      <td>manual</td>\n",
       "      <td>0</td>\n",
       "      <td>golf</td>\n",
       "      <td>150000</td>\n",
       "      <td>0</td>\n",
       "      <td>petrol</td>\n",
       "      <td>volkswagen</td>\n",
       "      <td>NaN</td>\n",
       "      <td>2016-03-24 00:00:00</td>\n",
       "      <td>0</td>\n",
       "      <td>70435</td>\n",
       "      <td>2016-04-07 03:16:57</td>\n",
       "    </tr>\n",
       "    <tr>\n",
       "      <th>1</th>\n",
       "      <td>2016-03-24 10:58:45</td>\n",
       "      <td>18300</td>\n",
       "      <td>coupe</td>\n",
       "      <td>2011</td>\n",
       "      <td>manual</td>\n",
       "      <td>190</td>\n",
       "      <td>NaN</td>\n",
       "      <td>125000</td>\n",
       "      <td>5</td>\n",
       "      <td>gasoline</td>\n",
       "      <td>audi</td>\n",
       "      <td>yes</td>\n",
       "      <td>2016-03-24 00:00:00</td>\n",
       "      <td>0</td>\n",
       "      <td>66954</td>\n",
       "      <td>2016-04-07 01:46:50</td>\n",
       "    </tr>\n",
       "    <tr>\n",
       "      <th>2</th>\n",
       "      <td>2016-03-14 12:52:21</td>\n",
       "      <td>9800</td>\n",
       "      <td>suv</td>\n",
       "      <td>2004</td>\n",
       "      <td>auto</td>\n",
       "      <td>163</td>\n",
       "      <td>grand</td>\n",
       "      <td>125000</td>\n",
       "      <td>8</td>\n",
       "      <td>gasoline</td>\n",
       "      <td>jeep</td>\n",
       "      <td>NaN</td>\n",
       "      <td>2016-03-14 00:00:00</td>\n",
       "      <td>0</td>\n",
       "      <td>90480</td>\n",
       "      <td>2016-04-05 12:47:46</td>\n",
       "    </tr>\n",
       "    <tr>\n",
       "      <th>3</th>\n",
       "      <td>2016-03-17 16:54:04</td>\n",
       "      <td>1500</td>\n",
       "      <td>small</td>\n",
       "      <td>2001</td>\n",
       "      <td>manual</td>\n",
       "      <td>75</td>\n",
       "      <td>golf</td>\n",
       "      <td>150000</td>\n",
       "      <td>6</td>\n",
       "      <td>petrol</td>\n",
       "      <td>volkswagen</td>\n",
       "      <td>no</td>\n",
       "      <td>2016-03-17 00:00:00</td>\n",
       "      <td>0</td>\n",
       "      <td>91074</td>\n",
       "      <td>2016-03-17 17:40:17</td>\n",
       "    </tr>\n",
       "    <tr>\n",
       "      <th>4</th>\n",
       "      <td>2016-03-31 17:25:20</td>\n",
       "      <td>3600</td>\n",
       "      <td>small</td>\n",
       "      <td>2008</td>\n",
       "      <td>manual</td>\n",
       "      <td>69</td>\n",
       "      <td>fabia</td>\n",
       "      <td>90000</td>\n",
       "      <td>7</td>\n",
       "      <td>gasoline</td>\n",
       "      <td>skoda</td>\n",
       "      <td>no</td>\n",
       "      <td>2016-03-31 00:00:00</td>\n",
       "      <td>0</td>\n",
       "      <td>60437</td>\n",
       "      <td>2016-04-06 10:17:21</td>\n",
       "    </tr>\n",
       "  </tbody>\n",
       "</table>\n",
       "</div>"
      ],
      "text/plain": [
       "           DateCrawled  Price VehicleType  RegistrationYear Gearbox  Power  \\\n",
       "0  2016-03-24 11:52:17    480         NaN              1993  manual      0   \n",
       "1  2016-03-24 10:58:45  18300       coupe              2011  manual    190   \n",
       "2  2016-03-14 12:52:21   9800         suv              2004    auto    163   \n",
       "3  2016-03-17 16:54:04   1500       small              2001  manual     75   \n",
       "4  2016-03-31 17:25:20   3600       small              2008  manual     69   \n",
       "\n",
       "   Model  Kilometer  RegistrationMonth  FuelType       Brand Repaired  \\\n",
       "0   golf     150000                  0    petrol  volkswagen      NaN   \n",
       "1    NaN     125000                  5  gasoline        audi      yes   \n",
       "2  grand     125000                  8  gasoline        jeep      NaN   \n",
       "3   golf     150000                  6    petrol  volkswagen       no   \n",
       "4  fabia      90000                  7  gasoline       skoda       no   \n",
       "\n",
       "           DateCreated  NumberOfPictures  PostalCode             LastSeen  \n",
       "0  2016-03-24 00:00:00                 0       70435  2016-04-07 03:16:57  \n",
       "1  2016-03-24 00:00:00                 0       66954  2016-04-07 01:46:50  \n",
       "2  2016-03-14 00:00:00                 0       90480  2016-04-05 12:47:46  \n",
       "3  2016-03-17 00:00:00                 0       91074  2016-03-17 17:40:17  \n",
       "4  2016-03-31 00:00:00                 0       60437  2016-04-06 10:17:21  "
      ]
     },
     "execution_count": 4,
     "metadata": {},
     "output_type": "execute_result"
    }
   ],
   "source": [
    "# обзор файла\n",
    "\n",
    "data.head()"
   ]
  },
  {
   "cell_type": "code",
   "execution_count": 5,
   "id": "6fc0f878",
   "metadata": {},
   "outputs": [
    {
     "name": "stdout",
     "output_type": "stream",
     "text": [
      "<class 'pandas.core.frame.DataFrame'>\n",
      "RangeIndex: 354369 entries, 0 to 354368\n",
      "Data columns (total 16 columns):\n",
      " #   Column             Non-Null Count   Dtype \n",
      "---  ------             --------------   ----- \n",
      " 0   DateCrawled        354369 non-null  object\n",
      " 1   Price              354369 non-null  int64 \n",
      " 2   VehicleType        316879 non-null  object\n",
      " 3   RegistrationYear   354369 non-null  int64 \n",
      " 4   Gearbox            334536 non-null  object\n",
      " 5   Power              354369 non-null  int64 \n",
      " 6   Model              334664 non-null  object\n",
      " 7   Kilometer          354369 non-null  int64 \n",
      " 8   RegistrationMonth  354369 non-null  int64 \n",
      " 9   FuelType           321474 non-null  object\n",
      " 10  Brand              354369 non-null  object\n",
      " 11  Repaired           283215 non-null  object\n",
      " 12  DateCreated        354369 non-null  object\n",
      " 13  NumberOfPictures   354369 non-null  int64 \n",
      " 14  PostalCode         354369 non-null  int64 \n",
      " 15  LastSeen           354369 non-null  object\n",
      "dtypes: int64(7), object(9)\n",
      "memory usage: 43.3+ MB\n"
     ]
    }
   ],
   "source": [
    "# обзор файла\n",
    "\n",
    "data.info()"
   ]
  },
  {
   "cell_type": "code",
   "execution_count": 6,
   "id": "4ae40520",
   "metadata": {},
   "outputs": [
    {
     "data": {
      "text/html": [
       "<div>\n",
       "<style scoped>\n",
       "    .dataframe tbody tr th:only-of-type {\n",
       "        vertical-align: middle;\n",
       "    }\n",
       "\n",
       "    .dataframe tbody tr th {\n",
       "        vertical-align: top;\n",
       "    }\n",
       "\n",
       "    .dataframe thead th {\n",
       "        text-align: right;\n",
       "    }\n",
       "</style>\n",
       "<table border=\"1\" class=\"dataframe\">\n",
       "  <thead>\n",
       "    <tr style=\"text-align: right;\">\n",
       "      <th></th>\n",
       "      <th>Price</th>\n",
       "      <th>RegistrationYear</th>\n",
       "      <th>Power</th>\n",
       "      <th>Kilometer</th>\n",
       "      <th>RegistrationMonth</th>\n",
       "      <th>NumberOfPictures</th>\n",
       "      <th>PostalCode</th>\n",
       "    </tr>\n",
       "  </thead>\n",
       "  <tbody>\n",
       "    <tr>\n",
       "      <th>count</th>\n",
       "      <td>354369.000000</td>\n",
       "      <td>354369.000000</td>\n",
       "      <td>354369.000000</td>\n",
       "      <td>354369.000000</td>\n",
       "      <td>354369.000000</td>\n",
       "      <td>354369.0</td>\n",
       "      <td>354369.000000</td>\n",
       "    </tr>\n",
       "    <tr>\n",
       "      <th>mean</th>\n",
       "      <td>4416.656776</td>\n",
       "      <td>2004.234448</td>\n",
       "      <td>110.094337</td>\n",
       "      <td>128211.172535</td>\n",
       "      <td>5.714645</td>\n",
       "      <td>0.0</td>\n",
       "      <td>50508.689087</td>\n",
       "    </tr>\n",
       "    <tr>\n",
       "      <th>std</th>\n",
       "      <td>4514.158514</td>\n",
       "      <td>90.227958</td>\n",
       "      <td>189.850405</td>\n",
       "      <td>37905.341530</td>\n",
       "      <td>3.726421</td>\n",
       "      <td>0.0</td>\n",
       "      <td>25783.096248</td>\n",
       "    </tr>\n",
       "    <tr>\n",
       "      <th>min</th>\n",
       "      <td>0.000000</td>\n",
       "      <td>1000.000000</td>\n",
       "      <td>0.000000</td>\n",
       "      <td>5000.000000</td>\n",
       "      <td>0.000000</td>\n",
       "      <td>0.0</td>\n",
       "      <td>1067.000000</td>\n",
       "    </tr>\n",
       "    <tr>\n",
       "      <th>25%</th>\n",
       "      <td>1050.000000</td>\n",
       "      <td>1999.000000</td>\n",
       "      <td>69.000000</td>\n",
       "      <td>125000.000000</td>\n",
       "      <td>3.000000</td>\n",
       "      <td>0.0</td>\n",
       "      <td>30165.000000</td>\n",
       "    </tr>\n",
       "    <tr>\n",
       "      <th>50%</th>\n",
       "      <td>2700.000000</td>\n",
       "      <td>2003.000000</td>\n",
       "      <td>105.000000</td>\n",
       "      <td>150000.000000</td>\n",
       "      <td>6.000000</td>\n",
       "      <td>0.0</td>\n",
       "      <td>49413.000000</td>\n",
       "    </tr>\n",
       "    <tr>\n",
       "      <th>75%</th>\n",
       "      <td>6400.000000</td>\n",
       "      <td>2008.000000</td>\n",
       "      <td>143.000000</td>\n",
       "      <td>150000.000000</td>\n",
       "      <td>9.000000</td>\n",
       "      <td>0.0</td>\n",
       "      <td>71083.000000</td>\n",
       "    </tr>\n",
       "    <tr>\n",
       "      <th>max</th>\n",
       "      <td>20000.000000</td>\n",
       "      <td>9999.000000</td>\n",
       "      <td>20000.000000</td>\n",
       "      <td>150000.000000</td>\n",
       "      <td>12.000000</td>\n",
       "      <td>0.0</td>\n",
       "      <td>99998.000000</td>\n",
       "    </tr>\n",
       "  </tbody>\n",
       "</table>\n",
       "</div>"
      ],
      "text/plain": [
       "               Price  RegistrationYear          Power      Kilometer  \\\n",
       "count  354369.000000     354369.000000  354369.000000  354369.000000   \n",
       "mean     4416.656776       2004.234448     110.094337  128211.172535   \n",
       "std      4514.158514         90.227958     189.850405   37905.341530   \n",
       "min         0.000000       1000.000000       0.000000    5000.000000   \n",
       "25%      1050.000000       1999.000000      69.000000  125000.000000   \n",
       "50%      2700.000000       2003.000000     105.000000  150000.000000   \n",
       "75%      6400.000000       2008.000000     143.000000  150000.000000   \n",
       "max     20000.000000       9999.000000   20000.000000  150000.000000   \n",
       "\n",
       "       RegistrationMonth  NumberOfPictures     PostalCode  \n",
       "count      354369.000000          354369.0  354369.000000  \n",
       "mean            5.714645               0.0   50508.689087  \n",
       "std             3.726421               0.0   25783.096248  \n",
       "min             0.000000               0.0    1067.000000  \n",
       "25%             3.000000               0.0   30165.000000  \n",
       "50%             6.000000               0.0   49413.000000  \n",
       "75%             9.000000               0.0   71083.000000  \n",
       "max            12.000000               0.0   99998.000000  "
      ]
     },
     "execution_count": 6,
     "metadata": {},
     "output_type": "execute_result"
    }
   ],
   "source": [
    "# основные статистики\n",
    "\n",
    "data.describe()"
   ]
  },
  {
   "cell_type": "code",
   "execution_count": 7,
   "id": "65fb6765",
   "metadata": {},
   "outputs": [
    {
     "data": {
      "text/plain": [
       "Text(0.5, 1.0, 'Корреляция признаков')"
      ]
     },
     "execution_count": 7,
     "metadata": {},
     "output_type": "execute_result"
    },
    {
     "data": {
      "image/png": "[encoded data removed]",
      "text/plain": [
       "<Figure size 432x288 with 2 Axes>"
      ]
     },
     "metadata": {
      "needs_background": "light"
     },
     "output_type": "display_data"
    }
   ],
   "source": [
    "# мультиколлениарность признаков\n",
    "\n",
    "matrix = np.triu(data.corr())\n",
    "sns.heatmap(data.corr(), mask=matrix, annot=True)\n",
    "plt.title('Корреляция признаков')"
   ]
  },
  {
   "cell_type": "markdown",
   "id": "e338317a",
   "metadata": {},
   "source": [
    "**Выводы обзора данных**\n",
    "\n",
    " - Значение мультиколлениарности не достигает максимума - признаки можно не удалять на этом основании\n",
    " \n",
    " \n",
    " - Удалить колонки DateCrawled (дата скачивания анкеты из базы), DateCreated (дата создания анкеты), NumberOfPictures (количество фотографий автомобиля - частое значение колонки 0), PostalCode (почтовый индекс владельца анкеты) и LastSeen (дата последней активности пользователя)\n",
    " \n",
    " \n",
    " - Провести работу с пропусками данных \n",
    " - Оценить аномалии в значениях (в колонке Price и RegistrationMonth минимальное значение 0, максимальное значение RegistrationYear - 9999)\n",
    " \n",
    " \n",
    " - Преобразовать категориальные признаки, т.к стоит задача регрессии (предсказание цены)"
   ]
  },
  {
   "cell_type": "markdown",
   "id": "d81ec0d5",
   "metadata": {},
   "source": [
    "# Предобработка"
   ]
  },
  {
   "cell_type": "markdown",
   "id": "97554732",
   "metadata": {},
   "source": [
    "## Удалим неинформативные колонки для модели"
   ]
  },
  {
   "cell_type": "code",
   "execution_count": 8,
   "id": "49c066a9",
   "metadata": {},
   "outputs": [
    {
     "data": {
      "text/plain": [
       "0         2016-03-24 11:52:17\n",
       "1         2016-03-24 10:58:45\n",
       "2         2016-03-14 12:52:21\n",
       "3         2016-03-17 16:54:04\n",
       "4         2016-03-31 17:25:20\n",
       "                 ...         \n",
       "354364    2016-03-21 09:50:58\n",
       "354365    2016-03-14 17:48:27\n",
       "354366    2016-03-05 19:56:21\n",
       "354367    2016-03-19 18:57:12\n",
       "354368    2016-03-20 19:41:08\n",
       "Name: DateCrawled, Length: 354369, dtype: object"
      ]
     },
     "execution_count": 8,
     "metadata": {},
     "output_type": "execute_result"
    }
   ],
   "source": [
    "# вначале оценим, данные за какой период представлены\n",
    "\n",
    "data['DateCrawled']"
   ]
  },
  {
   "cell_type": "code",
   "execution_count": 9,
   "id": "e320d2c2",
   "metadata": {},
   "outputs": [],
   "source": [
    "# удалим DateCrawled, DateCreated, NumberOfPictures, PostalCode и LastSeen\n",
    "\n",
    "data = data.drop(columns=['DateCrawled', 'DateCreated', 'NumberOfPictures', 'PostalCode', 'LastSeen'], axis=1)"
   ]
  },
  {
   "cell_type": "markdown",
   "id": "337f7016",
   "metadata": {},
   "source": [
    "## Приведем колонки к единому формату написания"
   ]
  },
  {
   "cell_type": "code",
   "execution_count": 10,
   "id": "ce7cab00",
   "metadata": {},
   "outputs": [
    {
     "data": {
      "text/plain": [
       "Index(['price', 'vehicle_type', 'registration_year', 'gearbox', 'power',\n",
       "       'model', 'kilometer', 'registration_month', 'fuel_type', 'brand',\n",
       "       'repaired'],\n",
       "      dtype='object')"
      ]
     },
     "execution_count": 10,
     "metadata": {},
     "output_type": "execute_result"
    }
   ],
   "source": [
    "data.columns = data.columns.str.lower()\n",
    "\n",
    "data = data.rename(columns = {'vehicletype':'vehicle_type',\n",
    "                              'registrationyear':'registration_year',\n",
    "                              'registrationmonth':'registration_month',\n",
    "                              'fueltype':'fuel_type'\n",
    "                             })\n",
    "\n",
    "data.columns"
   ]
  },
  {
   "cell_type": "markdown",
   "id": "253844ef",
   "metadata": {},
   "source": [
    "## Проверим наличие полных дубликатов "
   ]
  },
  {
   "cell_type": "code",
   "execution_count": 11,
   "id": "86061e2d",
   "metadata": {},
   "outputs": [
    {
     "data": {
      "text/plain": [
       "27543"
      ]
     },
     "execution_count": 11,
     "metadata": {},
     "output_type": "execute_result"
    }
   ],
   "source": [
    "data.duplicated().sum()"
   ]
  },
  {
   "cell_type": "code",
   "execution_count": 12,
   "id": "b1290521",
   "metadata": {},
   "outputs": [
    {
     "data": {
      "text/plain": [
       "0"
      ]
     },
     "execution_count": 12,
     "metadata": {},
     "output_type": "execute_result"
    }
   ],
   "source": [
    "# удалим дубликаты и проверим данные\n",
    "\n",
    "data = data.drop_duplicates()\n",
    "data.duplicated().sum()"
   ]
  },
  {
   "cell_type": "markdown",
   "id": "033ada11",
   "metadata": {},
   "source": [
    "## Работа с аномальными значениями числовых колонок"
   ]
  },
  {
   "cell_type": "code",
   "execution_count": 13,
   "id": "b5f03eae",
   "metadata": {},
   "outputs": [
    {
     "data": {
      "text/plain": [
       "2000    22363\n",
       "1999    20959\n",
       "2005    20271\n",
       "2001    18570\n",
       "2006    18116\n",
       "        ...  \n",
       "6500        1\n",
       "2290        1\n",
       "1001        1\n",
       "9450        1\n",
       "3500        1\n",
       "Name: registration_year, Length: 151, dtype: int64"
      ]
     },
     "execution_count": 13,
     "metadata": {},
     "output_type": "execute_result"
    }
   ],
   "source": [
    "# оценим аномальные значения года регистрации\n",
    "\n",
    "data['registration_year'].value_counts()"
   ]
  },
  {
   "cell_type": "code",
   "execution_count": 14,
   "id": "0b3a01d8",
   "metadata": {},
   "outputs": [],
   "source": [
    "# т.к аномальные значения практически минимальны - удалим колонки с ними\n",
    "\n",
    "data = data.loc[(data['registration_year'] > 1900)&(data['registration_year'] < 2016)]"
   ]
  },
  {
   "cell_type": "code",
   "execution_count": 15,
   "id": "533ad5ec",
   "metadata": {},
   "outputs": [
    {
     "data": {
      "text/plain": [
       "3     29946\n",
       "0     28601\n",
       "6     27259\n",
       "4     25547\n",
       "5     25224\n",
       "7     23774\n",
       "10    22525\n",
       "12    20974\n",
       "11    20739\n",
       "9     20683\n",
       "1     20346\n",
       "8     19498\n",
       "2     18565\n",
       "Name: registration_month, dtype: int64"
      ]
     },
     "execution_count": 15,
     "metadata": {},
     "output_type": "execute_result"
    }
   ],
   "source": [
    "# оценим распределение значений месяца регистрации\n",
    "\n",
    "data['registration_month'].value_counts()"
   ]
  },
  {
   "cell_type": "code",
   "execution_count": 16,
   "id": "8dc3b10d",
   "metadata": {},
   "outputs": [
    {
     "data": {
      "text/plain": [
       "0       30742\n",
       "75      19967\n",
       "60      13243\n",
       "150     12638\n",
       "101     11311\n",
       "        ...  \n",
       "612         1\n",
       "1596        1\n",
       "1506        1\n",
       "5809        1\n",
       "1241        1\n",
       "Name: power, Length: 684, dtype: int64"
      ]
     },
     "execution_count": 16,
     "metadata": {},
     "output_type": "execute_result"
    }
   ],
   "source": [
    "# оценим распределение значений мощности\n",
    "\n",
    "data['power'].value_counts()"
   ]
  },
  {
   "cell_type": "code",
   "execution_count": 17,
   "id": "3eff4a24",
   "metadata": {},
   "outputs": [
    {
     "data": {
      "text/plain": [
       "0        8089\n",
       "500      4806\n",
       "1500     4584\n",
       "1200     3852\n",
       "1000     3832\n",
       "         ... \n",
       "615         1\n",
       "477         1\n",
       "12560       1\n",
       "15445       1\n",
       "14989       1\n",
       "Name: price, Length: 3677, dtype: int64"
      ]
     },
     "execution_count": 17,
     "metadata": {},
     "output_type": "execute_result"
    }
   ],
   "source": [
    "# оценим распределение значений целевого признака\n",
    "\n",
    "data['price'].value_counts()"
   ]
  },
  {
   "cell_type": "markdown",
   "id": "d2ce860c",
   "metadata": {},
   "source": [
    "Во всех трех колонках, включая целевой признак, присутствуют аномальные значения, равные 0. Причем таких значений достаточно много (до 40 тыс)"
   ]
  },
  {
   "cell_type": "code",
   "execution_count": 18,
   "id": "69db8830",
   "metadata": {},
   "outputs": [],
   "source": [
    "# колонка месяца регистрации не так важна - данных c годом регистрации для предсказания модели будет достаточно\n",
    "# удалим колонку registration_month\n",
    "\n",
    "data = data.drop(['registration_month'], axis=1)"
   ]
  },
  {
   "cell_type": "code",
   "execution_count": 19,
   "id": "c980a10d",
   "metadata": {},
   "outputs": [],
   "source": [
    "# т.к колонка price является для нас целевой - аномальные значения придется удалить (они могут повлиять на качество модели)\n",
    "\n",
    "data = data.loc[data['price'] > 500]"
   ]
  },
  {
   "cell_type": "code",
   "execution_count": 20,
   "id": "b07b1f18",
   "metadata": {},
   "outputs": [],
   "source": [
    "# нулевые значения колонки с мощностью вначале заменим медианой по модели автомобиля\n",
    "\n",
    "for model in data['model'].unique():\n",
    "    data.loc[(data['model']==model)&(data['power']==0), 'power'] =\\\n",
    "    data.loc[(data['model']==model), 'power'].median()"
   ]
  },
  {
   "cell_type": "code",
   "execution_count": 21,
   "id": "f36d30d9",
   "metadata": {},
   "outputs": [
    {
     "data": {
      "text/plain": [
       "2574"
      ]
     },
     "execution_count": 21,
     "metadata": {},
     "output_type": "execute_result"
    }
   ],
   "source": [
    "# оценим оставшиеся нулевые значения\n",
    "\n",
    "data[data['power']==0].shape[0]"
   ]
  },
  {
   "cell_type": "code",
   "execution_count": 22,
   "id": "d8fe85eb",
   "metadata": {},
   "outputs": [],
   "source": [
    "# оставшиеся нулевые значения в мощности заполним медианой по году регистрации\n",
    "\n",
    "for year in data['registration_year'].unique():\n",
    "    data.loc[(data['registration_year']==year)&(data['power']==0), 'power'] =\\\n",
    "    data.loc[(data['registration_year']==year), 'power'].median()"
   ]
  },
  {
   "cell_type": "code",
   "execution_count": 23,
   "id": "0c46b173",
   "metadata": {},
   "outputs": [
    {
     "data": {
      "text/plain": [
       "9"
      ]
     },
     "execution_count": 23,
     "metadata": {},
     "output_type": "execute_result"
    }
   ],
   "source": [
    "# оценим оставшиеся нулевые значения\n",
    "\n",
    "data[data['power']==0].shape[0]"
   ]
  },
  {
   "cell_type": "code",
   "execution_count": 24,
   "id": "e47d7470",
   "metadata": {},
   "outputs": [],
   "source": [
    "# удалим строки с оставшимися нулевыми значениями - данные в них будет тяжело восстановить\n",
    "\n",
    "data = data.loc[data['power']!=0]"
   ]
  },
  {
   "cell_type": "markdown",
   "id": "ce391f6c",
   "metadata": {},
   "source": [
    "## Работа с пропусками"
   ]
  },
  {
   "cell_type": "code",
   "execution_count": 25,
   "id": "e37d7dbe",
   "metadata": {},
   "outputs": [
    {
     "data": {
      "text/plain": [
       "price                    0\n",
       "vehicle_type          6642\n",
       "registration_year        0\n",
       "gearbox               9339\n",
       "power                    0\n",
       "model                11147\n",
       "kilometer                0\n",
       "fuel_type            14736\n",
       "brand                    0\n",
       "repaired             41748\n",
       "dtype: int64"
      ]
     },
     "execution_count": 25,
     "metadata": {},
     "output_type": "execute_result"
    }
   ],
   "source": [
    "data.isna().sum()"
   ]
  },
  {
   "cell_type": "code",
   "execution_count": 26,
   "id": "70317093",
   "metadata": {},
   "outputs": [],
   "source": [
    "# количество пропусков в данных доходит почти до 20%\n",
    "# выделим колонки с пропусками в отдельный список\n",
    "\n",
    "miss_columns = ['vehicle_type', 'gearbox', 'model', 'fuel_type', 'repaired']"
   ]
  },
  {
   "cell_type": "markdown",
   "id": "f8273706",
   "metadata": {},
   "source": [
    "Для заполнения такого большого количества пропусков мог бы быть использован метод KNNImputer. Однако один из критериев проекта - скорость работы. KNNImputer заполнял пропуски 2 фич около 20 минут - поэтому если использовать его для работы с будущими данными, несмотря на возможно более высокое качество заполнения пропусков, скорость подготовки данных к обучению будет достаточно низкой.\n",
    "\n",
    "Поэтому заменим пропуски на формат 'unknown'"
   ]
  },
  {
   "cell_type": "code",
   "execution_count": 27,
   "id": "594922db",
   "metadata": {},
   "outputs": [],
   "source": [
    "for column in miss_columns:\n",
    "    data[column] = data[column].fillna('unknown')"
   ]
  },
  {
   "cell_type": "code",
   "execution_count": 28,
   "id": "280e4e71",
   "metadata": {},
   "outputs": [
    {
     "data": {
      "text/plain": [
       "price                0\n",
       "vehicle_type         0\n",
       "registration_year    0\n",
       "gearbox              0\n",
       "power                0\n",
       "model                0\n",
       "kilometer            0\n",
       "fuel_type            0\n",
       "brand                0\n",
       "repaired             0\n",
       "dtype: int64"
      ]
     },
     "execution_count": 28,
     "metadata": {},
     "output_type": "execute_result"
    }
   ],
   "source": [
    "# проверим полученные данные\n",
    "\n",
    "data.isna().sum()"
   ]
  },
  {
   "cell_type": "markdown",
   "id": "1bfefcd6",
   "metadata": {},
   "source": [
    "## Преобразование категориальных признаков "
   ]
  },
  {
   "cell_type": "markdown",
   "id": "16538b4e",
   "metadata": {},
   "source": [
    "Для дальнейшей работы (заполнения пропусков и работы модели) преобразуем категориальные признаки в числовой формат\n",
    "\n",
    "Используем технику OrdinalEncoder "
   ]
  },
  {
   "cell_type": "code",
   "execution_count": 29,
   "id": "5c082652",
   "metadata": {},
   "outputs": [],
   "source": [
    "# выделим в список названия колонок категориальных признаков\n",
    "\n",
    "category = ['vehicle_type', 'gearbox', 'model', 'fuel_type', 'brand', 'repaired']"
   ]
  },
  {
   "cell_type": "code",
   "execution_count": 30,
   "id": "85a88876",
   "metadata": {},
   "outputs": [],
   "source": [
    "# не забудем о том, что ранее мы удаляли строки и индексация датасета поменялась - сбросим индексацию для дальнейшей работы\n",
    "\n",
    "data = data.reset_index(drop=True)"
   ]
  },
  {
   "cell_type": "code",
   "execution_count": 31,
   "id": "742b6de3",
   "metadata": {},
   "outputs": [],
   "source": [
    "# зададим функцию кодирования и сохраним измененные в колонках данные как отдельный датасет\n",
    "\n",
    "encoder = OrdinalEncoder()\n",
    "data_category = pd.DataFrame(encoder.fit_transform(data[category]), columns=category)"
   ]
  },
  {
   "cell_type": "code",
   "execution_count": 32,
   "id": "c07065bd",
   "metadata": {},
   "outputs": [],
   "source": [
    "# удалим из изначального датасета колонки с прямыми категориальными признаками \n",
    "# затем добавим откодированные данные, объединив датасеты \n",
    "\n",
    "data_new = data.drop(columns=category, axis=1)\n",
    "data_new = pd.concat([data_new,data_category], axis=1)"
   ]
  },
  {
   "cell_type": "code",
   "execution_count": 33,
   "id": "dca1826a",
   "metadata": {},
   "outputs": [
    {
     "data": {
      "text/html": [
       "<div>\n",
       "<style scoped>\n",
       "    .dataframe tbody tr th:only-of-type {\n",
       "        vertical-align: middle;\n",
       "    }\n",
       "\n",
       "    .dataframe tbody tr th {\n",
       "        vertical-align: top;\n",
       "    }\n",
       "\n",
       "    .dataframe thead th {\n",
       "        text-align: right;\n",
       "    }\n",
       "</style>\n",
       "<table border=\"1\" class=\"dataframe\">\n",
       "  <thead>\n",
       "    <tr style=\"text-align: right;\">\n",
       "      <th></th>\n",
       "      <th>price</th>\n",
       "      <th>registration_year</th>\n",
       "      <th>power</th>\n",
       "      <th>kilometer</th>\n",
       "      <th>vehicle_type</th>\n",
       "      <th>gearbox</th>\n",
       "      <th>model</th>\n",
       "      <th>fuel_type</th>\n",
       "      <th>brand</th>\n",
       "      <th>repaired</th>\n",
       "    </tr>\n",
       "  </thead>\n",
       "  <tbody>\n",
       "    <tr>\n",
       "      <th>0</th>\n",
       "      <td>18300</td>\n",
       "      <td>2011</td>\n",
       "      <td>190.0</td>\n",
       "      <td>125000</td>\n",
       "      <td>2.0</td>\n",
       "      <td>1.0</td>\n",
       "      <td>228.0</td>\n",
       "      <td>2.0</td>\n",
       "      <td>1.0</td>\n",
       "      <td>2.0</td>\n",
       "    </tr>\n",
       "    <tr>\n",
       "      <th>1</th>\n",
       "      <td>9800</td>\n",
       "      <td>2004</td>\n",
       "      <td>163.0</td>\n",
       "      <td>125000</td>\n",
       "      <td>6.0</td>\n",
       "      <td>0.0</td>\n",
       "      <td>117.0</td>\n",
       "      <td>2.0</td>\n",
       "      <td>14.0</td>\n",
       "      <td>1.0</td>\n",
       "    </tr>\n",
       "    <tr>\n",
       "      <th>2</th>\n",
       "      <td>1500</td>\n",
       "      <td>2001</td>\n",
       "      <td>75.0</td>\n",
       "      <td>150000</td>\n",
       "      <td>5.0</td>\n",
       "      <td>1.0</td>\n",
       "      <td>116.0</td>\n",
       "      <td>6.0</td>\n",
       "      <td>38.0</td>\n",
       "      <td>0.0</td>\n",
       "    </tr>\n",
       "    <tr>\n",
       "      <th>3</th>\n",
       "      <td>3600</td>\n",
       "      <td>2008</td>\n",
       "      <td>69.0</td>\n",
       "      <td>90000</td>\n",
       "      <td>5.0</td>\n",
       "      <td>1.0</td>\n",
       "      <td>101.0</td>\n",
       "      <td>2.0</td>\n",
       "      <td>31.0</td>\n",
       "      <td>0.0</td>\n",
       "    </tr>\n",
       "    <tr>\n",
       "      <th>4</th>\n",
       "      <td>650</td>\n",
       "      <td>1995</td>\n",
       "      <td>102.0</td>\n",
       "      <td>150000</td>\n",
       "      <td>4.0</td>\n",
       "      <td>1.0</td>\n",
       "      <td>11.0</td>\n",
       "      <td>6.0</td>\n",
       "      <td>2.0</td>\n",
       "      <td>2.0</td>\n",
       "    </tr>\n",
       "  </tbody>\n",
       "</table>\n",
       "</div>"
      ],
      "text/plain": [
       "   price  registration_year  power  kilometer  vehicle_type  gearbox  model  \\\n",
       "0  18300               2011  190.0     125000           2.0      1.0  228.0   \n",
       "1   9800               2004  163.0     125000           6.0      0.0  117.0   \n",
       "2   1500               2001   75.0     150000           5.0      1.0  116.0   \n",
       "3   3600               2008   69.0      90000           5.0      1.0  101.0   \n",
       "4    650               1995  102.0     150000           4.0      1.0   11.0   \n",
       "\n",
       "   fuel_type  brand  repaired  \n",
       "0        2.0    1.0       2.0  \n",
       "1        2.0   14.0       1.0  \n",
       "2        6.0   38.0       0.0  \n",
       "3        2.0   31.0       0.0  \n",
       "4        6.0    2.0       2.0  "
      ]
     },
     "execution_count": 33,
     "metadata": {},
     "output_type": "execute_result"
    }
   ],
   "source": [
    "# проверим полученный результат\n",
    "\n",
    "data_new.head()"
   ]
  },
  {
   "cell_type": "code",
   "execution_count": 34,
   "id": "61acb0c8",
   "metadata": {},
   "outputs": [
    {
     "name": "stdout",
     "output_type": "stream",
     "text": [
      "Размерность изначального датасета - (269414, 10)\n",
      "Размерность полученного датасета - (269414, 10)\n"
     ]
    }
   ],
   "source": [
    "# проверим размерность изначального и полученного датасетов\n",
    "\n",
    "print('Размерность изначального датасета -', data.shape)\n",
    "print('Размерность полученного датасета -', data_new.shape)"
   ]
  },
  {
   "cell_type": "markdown",
   "id": "04dc2c32",
   "metadata": {},
   "source": [
    "# Подготовка к обучению"
   ]
  },
  {
   "cell_type": "code",
   "execution_count": 35,
   "id": "ad28e47b",
   "metadata": {},
   "outputs": [],
   "source": [
    "# разделим данные на целевой признак и признаки для обучения\n",
    "\n",
    "X = data_new.drop(['price'], axis=1)\n",
    "y = data_new['price']"
   ]
  },
  {
   "cell_type": "markdown",
   "id": "99601af3",
   "metadata": {},
   "source": [
    "## Стандартизация данных"
   ]
  },
  {
   "cell_type": "markdown",
   "id": "ed842fb2",
   "metadata": {},
   "source": [
    "Стандартиризуем только признаки для обучения - чтоы не изменить масшта целевого признака и ориентироваться на нужный нам показатель RMSE (ниже 2500)"
   ]
  },
  {
   "cell_type": "markdown",
   "id": "e6b2fdb8",
   "metadata": {},
   "source": [
    "scaler = StandardScaler()\n",
    "X = pd.DataFrame(scaler.fit_transform(X), columns=X.columns)"
   ]
  },
  {
   "cell_type": "code",
   "execution_count": 36,
   "id": "ad324339",
   "metadata": {},
   "outputs": [],
   "source": [
    "# разделим данные на обучающую, валидационную и тестовую выборку 3:1:1\n",
    "\n",
    "X_common, X_test, y_common, y_test = train_test_split(X, y, test_size=0.2, random_state=123)\n",
    "\n",
    "X_train, X_valid, y_train, y_valid = train_test_split(X_common, y_common, train_size=0.75, random_state=123)"
   ]
  },
  {
   "cell_type": "code",
   "execution_count": 37,
   "id": "cb320e33",
   "metadata": {},
   "outputs": [
    {
     "name": "stdout",
     "output_type": "stream",
     "text": [
      "(161648, 9)\n",
      "(53883, 9)\n",
      "(53883, 9)\n"
     ]
    }
   ],
   "source": [
    "# проверим размерность полученных выборок\n",
    "\n",
    "print(X_train.shape)\n",
    "print(X_valid.shape)\n",
    "print(X_test.shape)"
   ]
  },
  {
   "cell_type": "markdown",
   "id": "98e0c99b",
   "metadata": {},
   "source": [
    "# Подбор модели"
   ]
  },
  {
   "cell_type": "markdown",
   "id": "a7c29edd",
   "metadata": {},
   "source": [
    "Используем простые модели и оценим их скорость и качество.\n"
   ]
  },
  {
   "cell_type": "markdown",
   "id": "08fc201e",
   "metadata": {},
   "source": [
    "## LinearRegression"
   ]
  },
  {
   "cell_type": "code",
   "execution_count": 38,
   "id": "f2b0d6e3",
   "metadata": {},
   "outputs": [
    {
     "name": "stdout",
     "output_type": "stream",
     "text": [
      "CPU times: total: 15.6 ms\n",
      "Wall time: 51.4 ms\n"
     ]
    },
    {
     "data": {
      "text/plain": [
       "LinearRegression()"
      ]
     },
     "execution_count": 38,
     "metadata": {},
     "output_type": "execute_result"
    }
   ],
   "source": [
    "%%time\n",
    "# обучение\n",
    "\n",
    "lr = LinearRegression()\n",
    "lr.fit(X_train, y_train)"
   ]
  },
  {
   "cell_type": "code",
   "execution_count": 39,
   "id": "6931c55c",
   "metadata": {},
   "outputs": [
    {
     "name": "stdout",
     "output_type": "stream",
     "text": [
      "CPU times: total: 0 ns\n",
      "Wall time: 3.99 ms\n"
     ]
    }
   ],
   "source": [
    "%%time\n",
    "# предсказание\n",
    "\n",
    "y_lr_pred = lr.predict(X_valid)"
   ]
  },
  {
   "cell_type": "code",
   "execution_count": 40,
   "id": "6e329b38",
   "metadata": {},
   "outputs": [
    {
     "name": "stdout",
     "output_type": "stream",
     "text": [
      "3478\n"
     ]
    }
   ],
   "source": [
    "# метрика качества\n",
    "\n",
    "lr_mse = mean_squared_error(y_valid, y_lr_pred)\n",
    "lr_rmse = lr_mse**.5\n",
    "\n",
    "print(int(lr_rmse))"
   ]
  },
  {
   "cell_type": "markdown",
   "id": "7eea42d7",
   "metadata": {},
   "source": [
    "**Итог модели Линейной регрессии**\n",
    "\n",
    " - Время обучения модели - 93.8 ms, время предсказания - 0 ns\n",
    " - Показатель RMSE - 3481"
   ]
  },
  {
   "cell_type": "markdown",
   "id": "01935f54",
   "metadata": {},
   "source": [
    "Для следующих моделей подберем лучшие гиперпараметры с помощью GridSearchCV."
   ]
  },
  {
   "cell_type": "markdown",
   "id": "8be44a4a",
   "metadata": {},
   "source": [
    "##  DecisionTreeRegressor"
   ]
  },
  {
   "cell_type": "code",
   "execution_count": 41,
   "id": "1f5fbca8",
   "metadata": {},
   "outputs": [],
   "source": [
    "# зададим параметры поиска по сетке\n",
    "\n",
    "tree_params = {'max_depth': range (1,11,2),\n",
    "              'min_samples_leaf': range (1,6),\n",
    "              'min_samples_split': range (2,8,2) \n",
    "              }"
   ]
  },
  {
   "cell_type": "code",
   "execution_count": 42,
   "id": "2864d7f2",
   "metadata": {},
   "outputs": [
    {
     "data": {
      "text/plain": [
       "{'max_depth': 9, 'min_samples_leaf': 4, 'min_samples_split': 6}"
      ]
     },
     "execution_count": 42,
     "metadata": {},
     "output_type": "execute_result"
    }
   ],
   "source": [
    "# применим GridSearchCV и выведем лучшие параметры\n",
    "\n",
    "tree = DecisionTreeRegressor()\n",
    "\n",
    "grid_tree = GridSearchCV(tree, tree_params, cv=5, scoring='neg_mean_squared_error')\n",
    "grid_tree.fit(X_train, y_train)\n",
    "grid_tree.best_params_"
   ]
  },
  {
   "cell_type": "code",
   "execution_count": 43,
   "id": "cd0c5619",
   "metadata": {},
   "outputs": [
    {
     "name": "stdout",
     "output_type": "stream",
     "text": [
      "CPU times: total: 219 ms\n",
      "Wall time: 225 ms\n"
     ]
    },
    {
     "data": {
      "text/plain": [
       "DecisionTreeRegressor(max_depth=9, min_samples_leaf=4, min_samples_split=6)"
      ]
     },
     "execution_count": 43,
     "metadata": {},
     "output_type": "execute_result"
    }
   ],
   "source": [
    "%%time\n",
    "# обучение\n",
    "\n",
    "best_tree = DecisionTreeRegressor(**grid_tree.best_params_)\n",
    "best_tree.fit(X_train, y_train)"
   ]
  },
  {
   "cell_type": "code",
   "execution_count": 44,
   "id": "93254808",
   "metadata": {},
   "outputs": [
    {
     "name": "stdout",
     "output_type": "stream",
     "text": [
      "CPU times: total: 0 ns\n",
      "Wall time: 8.3 ms\n"
     ]
    }
   ],
   "source": [
    "%%time\n",
    "# предсказание\n",
    "\n",
    "y_tr_pred = best_tree.predict(X_valid)"
   ]
  },
  {
   "cell_type": "code",
   "execution_count": 45,
   "id": "834883a2",
   "metadata": {},
   "outputs": [
    {
     "name": "stdout",
     "output_type": "stream",
     "text": [
      "2046\n"
     ]
    }
   ],
   "source": [
    "# метрика качества\n",
    "\n",
    "tr_mse = mean_squared_error(y_valid, y_tr_pred)\n",
    "tr_rmse = tr_mse**.5\n",
    "\n",
    "print(int(tr_rmse))"
   ]
  },
  {
   "cell_type": "markdown",
   "id": "aa977bee",
   "metadata": {},
   "source": [
    "**Итог модели Дерева решений**\n",
    "\n",
    " - Лучшие гиперпараметры - max_depth=9, min_samples_leaf=5, min_samples_split=4\n",
    " - Время обучения модели - 328 ms, время предсказания - 15.6 ns\n",
    " - Показатель RMSE - 2046"
   ]
  },
  {
   "cell_type": "markdown",
   "id": "797ee149",
   "metadata": {},
   "source": [
    "## RandomForestRegressor"
   ]
  },
  {
   "cell_type": "code",
   "execution_count": 46,
   "id": "645d65c8",
   "metadata": {},
   "outputs": [],
   "source": [
    "# зададим параметры поиска по сетке\n",
    "\n",
    "forest_params = {'n_estimators': range (10, 50, 10),\n",
    "                 'max_depth': range (1,7,2),\n",
    "                 'min_samples_leaf': range (1,3),\n",
    "                 'min_samples_split': range (2,4,2) \n",
    "                }"
   ]
  },
  {
   "cell_type": "code",
   "execution_count": 47,
   "id": "b053983c",
   "metadata": {},
   "outputs": [
    {
     "data": {
      "text/plain": [
       "{'max_depth': 5,\n",
       " 'min_samples_leaf': 1,\n",
       " 'min_samples_split': 2,\n",
       " 'n_estimators': 40}"
      ]
     },
     "execution_count": 47,
     "metadata": {},
     "output_type": "execute_result"
    }
   ],
   "source": [
    "# применим GridSearchCV и выведем лучшие параметры\n",
    "\n",
    "forest = RandomForestRegressor()\n",
    "\n",
    "forest_tree = GridSearchCV(forest, forest_params, cv=5, scoring='neg_mean_squared_error')\n",
    "forest_tree.fit(X_train, y_train)\n",
    "forest_tree.best_params_"
   ]
  },
  {
   "cell_type": "code",
   "execution_count": 48,
   "id": "1e449dd3",
   "metadata": {},
   "outputs": [
    {
     "name": "stdout",
     "output_type": "stream",
     "text": [
      "CPU times: total: 3.55 s\n",
      "Wall time: 3.62 s\n"
     ]
    },
    {
     "data": {
      "text/plain": [
       "RandomForestRegressor(max_depth=5, n_estimators=40)"
      ]
     },
     "execution_count": 48,
     "metadata": {},
     "output_type": "execute_result"
    }
   ],
   "source": [
    "%%time\n",
    "# обучение\n",
    "\n",
    "forest_tree = RandomForestRegressor(**forest_tree.best_params_)\n",
    "forest_tree.fit(X_train, y_train)"
   ]
  },
  {
   "cell_type": "code",
   "execution_count": 49,
   "id": "0e67a9e8",
   "metadata": {},
   "outputs": [
    {
     "name": "stdout",
     "output_type": "stream",
     "text": [
      "CPU times: total: 0 ns\n",
      "Wall time: 7.04 ms\n"
     ]
    }
   ],
   "source": [
    "%%time\n",
    "# предсказание\n",
    "\n",
    "y_ft_pred = best_tree.predict(X_valid)"
   ]
  },
  {
   "cell_type": "code",
   "execution_count": 50,
   "id": "6070a1de",
   "metadata": {},
   "outputs": [
    {
     "name": "stdout",
     "output_type": "stream",
     "text": [
      "2046\n"
     ]
    }
   ],
   "source": [
    "# метрика качества\n",
    "\n",
    "ft_mse = mean_squared_error(y_valid, y_ft_pred)\n",
    "ft_rmse = ft_mse**.5\n",
    "\n",
    "print(int(ft_rmse))"
   ]
  },
  {
   "cell_type": "markdown",
   "id": "037a785d",
   "metadata": {},
   "source": [
    "**Итог модели Случайного леса**\n",
    "\n",
    " - Лучшие гиперпараметры - max_depth=5, min_samples_leaf=1, min_samples_split=2, n_estimators=20 \n",
    " - Время обучения модели - 2.95 s, время предсказания - 15.6 ns\n",
    " - Показатель RMSE - 2046"
   ]
  },
  {
   "cell_type": "markdown",
   "id": "b730cf01",
   "metadata": {},
   "source": [
    "## Градиентный бустинг "
   ]
  },
  {
   "cell_type": "code",
   "execution_count": 51,
   "id": "d88b4f83",
   "metadata": {},
   "outputs": [],
   "source": [
    "# создадим датасет для обучения\n",
    "\n",
    "train_data = lgb.Dataset(X_train, y_train, feature_name=X_common.columns.tolist())"
   ]
  },
  {
   "cell_type": "code",
   "execution_count": 52,
   "id": "0bc99ea9",
   "metadata": {},
   "outputs": [
    {
     "name": "stdout",
     "output_type": "stream",
     "text": [
      "[LightGBM] [Warning] Auto-choosing row-wise multi-threading, the overhead of testing was 0.003971 seconds.\n",
      "You can set `force_row_wise=true` to remove the overhead.\n",
      "And if memory is not enough, you can set `force_col_wise=true`.\n",
      "[LightGBM] [Info] Total Bins 655\n",
      "[LightGBM] [Info] Number of data points in the train set: 161648, number of used features: 9\n",
      "[LightGBM] [Info] Start training from score 5082.137707\n",
      "CPU times: total: 3 s\n",
      "Wall time: 350 ms\n"
     ]
    }
   ],
   "source": [
    "%%time\n",
    "# обучим модель на основе параметров по умолчанию - ансамбля дереьвев (gbdt) и 100 итераций\n",
    "\n",
    "booster = lgb.train({'objective':'regression',\n",
    "                     'metric':'rmse',\n",
    "                     'boosting':'gbdt'},\n",
    "                    train_set=train_data, \n",
    "                    num_boost_round=100\n",
    "                   )"
   ]
  },
  {
   "cell_type": "code",
   "execution_count": 53,
   "id": "33a5700d",
   "metadata": {},
   "outputs": [
    {
     "name": "stdout",
     "output_type": "stream",
     "text": [
      "CPU times: total: 688 ms\n",
      "Wall time: 58.4 ms\n"
     ]
    }
   ],
   "source": [
    "%%time\n",
    "# выведем предсказание\n",
    "\n",
    "y_boost_pred = booster.predict(X_valid)"
   ]
  },
  {
   "cell_type": "code",
   "execution_count": 54,
   "id": "9ecadccd",
   "metadata": {},
   "outputs": [
    {
     "name": "stdout",
     "output_type": "stream",
     "text": [
      "1699\n"
     ]
    }
   ],
   "source": [
    "# метрика качества\n",
    "\n",
    "boost_mse = mean_squared_error(y_valid, y_boost_pred)\n",
    "boost_rmse = boost_mse**.5\n",
    "\n",
    "print(int(boost_rmse))"
   ]
  },
  {
   "cell_type": "markdown",
   "id": "9f7b16ac",
   "metadata": {},
   "source": [
    "**Итог модели Градиентного бустинга**\n",
    "\n",
    " - Гиперпараметры - ансамбль дереьвев (gbdt) и 100 итераций \n",
    " - Время обучения модели - 7.25 s, время предсказания - 1 s\n",
    " - Показатель RMSE - 1699 "
   ]
  },
  {
   "cell_type": "markdown",
   "id": "b34cdffb",
   "metadata": {},
   "source": [
    "Попробуем использовать градиентный бустинг непосредственно с Регрессором"
   ]
  },
  {
   "cell_type": "code",
   "execution_count": 55,
   "id": "66e4352e",
   "metadata": {
    "scrolled": true
   },
   "outputs": [
    {
     "ename": "LightGBMError",
     "evalue": "Parameter verbosity should be of type int, got \"False\"",
     "output_type": "error",
     "traceback": [
      "\u001b[1;31m---------------------------------------------------------------------------\u001b[0m",
      "\u001b[1;31mLightGBMError\u001b[0m                             Traceback (most recent call last)",
      "File \u001b[1;32m<timed exec>:4\u001b[0m, in \u001b[0;36m<module>\u001b[1;34m\u001b[0m\n",
      "File \u001b[1;32m~\\anaconda3\\lib\\site-packages\\lightgbm\\sklearn.py:895\u001b[0m, in \u001b[0;36mLGBMRegressor.fit\u001b[1;34m(self, X, y, sample_weight, init_score, eval_set, eval_names, eval_sample_weight, eval_init_score, eval_metric, early_stopping_rounds, verbose, feature_name, categorical_feature, callbacks, init_model)\u001b[0m\n\u001b[0;32m    888\u001b[0m \u001b[38;5;28;01mdef\u001b[39;00m \u001b[38;5;21mfit\u001b[39m(\u001b[38;5;28mself\u001b[39m, X, y,\n\u001b[0;32m    889\u001b[0m         sample_weight\u001b[38;5;241m=\u001b[39m\u001b[38;5;28;01mNone\u001b[39;00m, init_score\u001b[38;5;241m=\u001b[39m\u001b[38;5;28;01mNone\u001b[39;00m,\n\u001b[0;32m    890\u001b[0m         eval_set\u001b[38;5;241m=\u001b[39m\u001b[38;5;28;01mNone\u001b[39;00m, eval_names\u001b[38;5;241m=\u001b[39m\u001b[38;5;28;01mNone\u001b[39;00m, eval_sample_weight\u001b[38;5;241m=\u001b[39m\u001b[38;5;28;01mNone\u001b[39;00m,\n\u001b[0;32m    891\u001b[0m         eval_init_score\u001b[38;5;241m=\u001b[39m\u001b[38;5;28;01mNone\u001b[39;00m, eval_metric\u001b[38;5;241m=\u001b[39m\u001b[38;5;28;01mNone\u001b[39;00m, early_stopping_rounds\u001b[38;5;241m=\u001b[39m\u001b[38;5;28;01mNone\u001b[39;00m,\n\u001b[0;32m    892\u001b[0m         verbose\u001b[38;5;241m=\u001b[39m\u001b[38;5;124m'\u001b[39m\u001b[38;5;124mwarn\u001b[39m\u001b[38;5;124m'\u001b[39m, feature_name\u001b[38;5;241m=\u001b[39m\u001b[38;5;124m'\u001b[39m\u001b[38;5;124mauto\u001b[39m\u001b[38;5;124m'\u001b[39m, categorical_feature\u001b[38;5;241m=\u001b[39m\u001b[38;5;124m'\u001b[39m\u001b[38;5;124mauto\u001b[39m\u001b[38;5;124m'\u001b[39m,\n\u001b[0;32m    893\u001b[0m         callbacks\u001b[38;5;241m=\u001b[39m\u001b[38;5;28;01mNone\u001b[39;00m, init_model\u001b[38;5;241m=\u001b[39m\u001b[38;5;28;01mNone\u001b[39;00m):\n\u001b[0;32m    894\u001b[0m     \u001b[38;5;124;03m\"\"\"Docstring is inherited from the LGBMModel.\"\"\"\u001b[39;00m\n\u001b[1;32m--> 895\u001b[0m     \u001b[38;5;28;43msuper\u001b[39;49m\u001b[43m(\u001b[49m\u001b[43m)\u001b[49m\u001b[38;5;241;43m.\u001b[39;49m\u001b[43mfit\u001b[49m\u001b[43m(\u001b[49m\u001b[43mX\u001b[49m\u001b[43m,\u001b[49m\u001b[43m \u001b[49m\u001b[43my\u001b[49m\u001b[43m,\u001b[49m\u001b[43m \u001b[49m\u001b[43msample_weight\u001b[49m\u001b[38;5;241;43m=\u001b[39;49m\u001b[43msample_weight\u001b[49m\u001b[43m,\u001b[49m\u001b[43m \u001b[49m\u001b[43minit_score\u001b[49m\u001b[38;5;241;43m=\u001b[39;49m\u001b[43minit_score\u001b[49m\u001b[43m,\u001b[49m\n\u001b[0;32m    896\u001b[0m \u001b[43m                \u001b[49m\u001b[43meval_set\u001b[49m\u001b[38;5;241;43m=\u001b[39;49m\u001b[43meval_set\u001b[49m\u001b[43m,\u001b[49m\u001b[43m \u001b[49m\u001b[43meval_names\u001b[49m\u001b[38;5;241;43m=\u001b[39;49m\u001b[43meval_names\u001b[49m\u001b[43m,\u001b[49m\u001b[43m \u001b[49m\u001b[43meval_sample_weight\u001b[49m\u001b[38;5;241;43m=\u001b[39;49m\u001b[43meval_sample_weight\u001b[49m\u001b[43m,\u001b[49m\n\u001b[0;32m    897\u001b[0m \u001b[43m                \u001b[49m\u001b[43meval_init_score\u001b[49m\u001b[38;5;241;43m=\u001b[39;49m\u001b[43meval_init_score\u001b[49m\u001b[43m,\u001b[49m\u001b[43m \u001b[49m\u001b[43meval_metric\u001b[49m\u001b[38;5;241;43m=\u001b[39;49m\u001b[43meval_metric\u001b[49m\u001b[43m,\u001b[49m\n\u001b[0;32m    898\u001b[0m \u001b[43m                \u001b[49m\u001b[43mearly_stopping_rounds\u001b[49m\u001b[38;5;241;43m=\u001b[39;49m\u001b[43mearly_stopping_rounds\u001b[49m\u001b[43m,\u001b[49m\u001b[43m \u001b[49m\u001b[43mverbose\u001b[49m\u001b[38;5;241;43m=\u001b[39;49m\u001b[43mverbose\u001b[49m\u001b[43m,\u001b[49m\u001b[43m \u001b[49m\u001b[43mfeature_name\u001b[49m\u001b[38;5;241;43m=\u001b[39;49m\u001b[43mfeature_name\u001b[49m\u001b[43m,\u001b[49m\n\u001b[0;32m    899\u001b[0m \u001b[43m                \u001b[49m\u001b[43mcategorical_feature\u001b[49m\u001b[38;5;241;43m=\u001b[39;49m\u001b[43mcategorical_feature\u001b[49m\u001b[43m,\u001b[49m\u001b[43m \u001b[49m\u001b[43mcallbacks\u001b[49m\u001b[38;5;241;43m=\u001b[39;49m\u001b[43mcallbacks\u001b[49m\u001b[43m,\u001b[49m\u001b[43m \u001b[49m\u001b[43minit_model\u001b[49m\u001b[38;5;241;43m=\u001b[39;49m\u001b[43minit_model\u001b[49m\u001b[43m)\u001b[49m\n\u001b[0;32m    900\u001b[0m     \u001b[38;5;28;01mreturn\u001b[39;00m \u001b[38;5;28mself\u001b[39m\n",
      "File \u001b[1;32m~\\anaconda3\\lib\\site-packages\\lightgbm\\sklearn.py:748\u001b[0m, in \u001b[0;36mLGBMModel.fit\u001b[1;34m(self, X, y, sample_weight, init_score, group, eval_set, eval_names, eval_sample_weight, eval_class_weight, eval_init_score, eval_group, eval_metric, early_stopping_rounds, verbose, feature_name, categorical_feature, callbacks, init_model)\u001b[0m\n\u001b[0;32m    745\u001b[0m evals_result \u001b[38;5;241m=\u001b[39m {}\n\u001b[0;32m    746\u001b[0m callbacks\u001b[38;5;241m.\u001b[39mappend(record_evaluation(evals_result))\n\u001b[1;32m--> 748\u001b[0m \u001b[38;5;28mself\u001b[39m\u001b[38;5;241m.\u001b[39m_Booster \u001b[38;5;241m=\u001b[39m \u001b[43mtrain\u001b[49m\u001b[43m(\u001b[49m\n\u001b[0;32m    749\u001b[0m \u001b[43m    \u001b[49m\u001b[43mparams\u001b[49m\u001b[38;5;241;43m=\u001b[39;49m\u001b[43mparams\u001b[49m\u001b[43m,\u001b[49m\n\u001b[0;32m    750\u001b[0m \u001b[43m    \u001b[49m\u001b[43mtrain_set\u001b[49m\u001b[38;5;241;43m=\u001b[39;49m\u001b[43mtrain_set\u001b[49m\u001b[43m,\u001b[49m\n\u001b[0;32m    751\u001b[0m \u001b[43m    \u001b[49m\u001b[43mnum_boost_round\u001b[49m\u001b[38;5;241;43m=\u001b[39;49m\u001b[38;5;28;43mself\u001b[39;49m\u001b[38;5;241;43m.\u001b[39;49m\u001b[43mn_estimators\u001b[49m\u001b[43m,\u001b[49m\n\u001b[0;32m    752\u001b[0m \u001b[43m    \u001b[49m\u001b[43mvalid_sets\u001b[49m\u001b[38;5;241;43m=\u001b[39;49m\u001b[43mvalid_sets\u001b[49m\u001b[43m,\u001b[49m\n\u001b[0;32m    753\u001b[0m \u001b[43m    \u001b[49m\u001b[43mvalid_names\u001b[49m\u001b[38;5;241;43m=\u001b[39;49m\u001b[43meval_names\u001b[49m\u001b[43m,\u001b[49m\n\u001b[0;32m    754\u001b[0m \u001b[43m    \u001b[49m\u001b[43mfobj\u001b[49m\u001b[38;5;241;43m=\u001b[39;49m\u001b[38;5;28;43mself\u001b[39;49m\u001b[38;5;241;43m.\u001b[39;49m\u001b[43m_fobj\u001b[49m\u001b[43m,\u001b[49m\n\u001b[0;32m    755\u001b[0m \u001b[43m    \u001b[49m\u001b[43mfeval\u001b[49m\u001b[38;5;241;43m=\u001b[39;49m\u001b[43meval_metrics_callable\u001b[49m\u001b[43m,\u001b[49m\n\u001b[0;32m    756\u001b[0m \u001b[43m    \u001b[49m\u001b[43minit_model\u001b[49m\u001b[38;5;241;43m=\u001b[39;49m\u001b[43minit_model\u001b[49m\u001b[43m,\u001b[49m\n\u001b[0;32m    757\u001b[0m \u001b[43m    \u001b[49m\u001b[43mfeature_name\u001b[49m\u001b[38;5;241;43m=\u001b[39;49m\u001b[43mfeature_name\u001b[49m\u001b[43m,\u001b[49m\n\u001b[0;32m    758\u001b[0m \u001b[43m    \u001b[49m\u001b[43mcallbacks\u001b[49m\u001b[38;5;241;43m=\u001b[39;49m\u001b[43mcallbacks\u001b[49m\n\u001b[0;32m    759\u001b[0m \u001b[43m\u001b[49m\u001b[43m)\u001b[49m\n\u001b[0;32m    761\u001b[0m \u001b[38;5;28;01mif\u001b[39;00m evals_result:\n\u001b[0;32m    762\u001b[0m     \u001b[38;5;28mself\u001b[39m\u001b[38;5;241m.\u001b[39m_evals_result \u001b[38;5;241m=\u001b[39m evals_result\n",
      "File \u001b[1;32m~\\anaconda3\\lib\\site-packages\\lightgbm\\engine.py:271\u001b[0m, in \u001b[0;36mtrain\u001b[1;34m(params, train_set, num_boost_round, valid_sets, valid_names, fobj, feval, init_model, feature_name, categorical_feature, early_stopping_rounds, evals_result, verbose_eval, learning_rates, keep_training_booster, callbacks)\u001b[0m\n\u001b[0;32m    269\u001b[0m \u001b[38;5;66;03m# construct booster\u001b[39;00m\n\u001b[0;32m    270\u001b[0m \u001b[38;5;28;01mtry\u001b[39;00m:\n\u001b[1;32m--> 271\u001b[0m     booster \u001b[38;5;241m=\u001b[39m \u001b[43mBooster\u001b[49m\u001b[43m(\u001b[49m\u001b[43mparams\u001b[49m\u001b[38;5;241;43m=\u001b[39;49m\u001b[43mparams\u001b[49m\u001b[43m,\u001b[49m\u001b[43m \u001b[49m\u001b[43mtrain_set\u001b[49m\u001b[38;5;241;43m=\u001b[39;49m\u001b[43mtrain_set\u001b[49m\u001b[43m)\u001b[49m\n\u001b[0;32m    272\u001b[0m     \u001b[38;5;28;01mif\u001b[39;00m is_valid_contain_train:\n\u001b[0;32m    273\u001b[0m         booster\u001b[38;5;241m.\u001b[39mset_train_data_name(train_data_name)\n",
      "File \u001b[1;32m~\\anaconda3\\lib\\site-packages\\lightgbm\\basic.py:2605\u001b[0m, in \u001b[0;36mBooster.__init__\u001b[1;34m(self, params, train_set, model_file, model_str, silent)\u001b[0m\n\u001b[0;32m   2598\u001b[0m     \u001b[38;5;28mself\u001b[39m\u001b[38;5;241m.\u001b[39mset_network(\n\u001b[0;32m   2599\u001b[0m         machines\u001b[38;5;241m=\u001b[39mmachines,\n\u001b[0;32m   2600\u001b[0m         local_listen_port\u001b[38;5;241m=\u001b[39mparams[\u001b[38;5;124m\"\u001b[39m\u001b[38;5;124mlocal_listen_port\u001b[39m\u001b[38;5;124m\"\u001b[39m],\n\u001b[0;32m   2601\u001b[0m         listen_time_out\u001b[38;5;241m=\u001b[39mparams\u001b[38;5;241m.\u001b[39mget(\u001b[38;5;124m\"\u001b[39m\u001b[38;5;124mtime_out\u001b[39m\u001b[38;5;124m\"\u001b[39m, \u001b[38;5;241m120\u001b[39m),\n\u001b[0;32m   2602\u001b[0m         num_machines\u001b[38;5;241m=\u001b[39mparams[\u001b[38;5;124m\"\u001b[39m\u001b[38;5;124mnum_machines\u001b[39m\u001b[38;5;124m\"\u001b[39m]\n\u001b[0;32m   2603\u001b[0m     )\n\u001b[0;32m   2604\u001b[0m \u001b[38;5;66;03m# construct booster object\u001b[39;00m\n\u001b[1;32m-> 2605\u001b[0m \u001b[43mtrain_set\u001b[49m\u001b[38;5;241;43m.\u001b[39;49m\u001b[43mconstruct\u001b[49m\u001b[43m(\u001b[49m\u001b[43m)\u001b[49m\n\u001b[0;32m   2606\u001b[0m \u001b[38;5;66;03m# copy the parameters from train_set\u001b[39;00m\n\u001b[0;32m   2607\u001b[0m params\u001b[38;5;241m.\u001b[39mupdate(train_set\u001b[38;5;241m.\u001b[39mget_params())\n",
      "File \u001b[1;32m~\\anaconda3\\lib\\site-packages\\lightgbm\\basic.py:1815\u001b[0m, in \u001b[0;36mDataset.construct\u001b[1;34m(self)\u001b[0m\n\u001b[0;32m   1812\u001b[0m             \u001b[38;5;28mself\u001b[39m\u001b[38;5;241m.\u001b[39m_set_init_score_by_predictor(\u001b[38;5;28mself\u001b[39m\u001b[38;5;241m.\u001b[39m_predictor, \u001b[38;5;28mself\u001b[39m\u001b[38;5;241m.\u001b[39mdata, used_indices)\n\u001b[0;32m   1813\u001b[0m \u001b[38;5;28;01melse\u001b[39;00m:\n\u001b[0;32m   1814\u001b[0m     \u001b[38;5;66;03m# create train\u001b[39;00m\n\u001b[1;32m-> 1815\u001b[0m     \u001b[38;5;28;43mself\u001b[39;49m\u001b[38;5;241;43m.\u001b[39;49m\u001b[43m_lazy_init\u001b[49m\u001b[43m(\u001b[49m\u001b[38;5;28;43mself\u001b[39;49m\u001b[38;5;241;43m.\u001b[39;49m\u001b[43mdata\u001b[49m\u001b[43m,\u001b[49m\u001b[43m \u001b[49m\u001b[43mlabel\u001b[49m\u001b[38;5;241;43m=\u001b[39;49m\u001b[38;5;28;43mself\u001b[39;49m\u001b[38;5;241;43m.\u001b[39;49m\u001b[43mlabel\u001b[49m\u001b[43m,\u001b[49m\n\u001b[0;32m   1816\u001b[0m \u001b[43m                    \u001b[49m\u001b[43mweight\u001b[49m\u001b[38;5;241;43m=\u001b[39;49m\u001b[38;5;28;43mself\u001b[39;49m\u001b[38;5;241;43m.\u001b[39;49m\u001b[43mweight\u001b[49m\u001b[43m,\u001b[49m\u001b[43m \u001b[49m\u001b[43mgroup\u001b[49m\u001b[38;5;241;43m=\u001b[39;49m\u001b[38;5;28;43mself\u001b[39;49m\u001b[38;5;241;43m.\u001b[39;49m\u001b[43mgroup\u001b[49m\u001b[43m,\u001b[49m\n\u001b[0;32m   1817\u001b[0m \u001b[43m                    \u001b[49m\u001b[43minit_score\u001b[49m\u001b[38;5;241;43m=\u001b[39;49m\u001b[38;5;28;43mself\u001b[39;49m\u001b[38;5;241;43m.\u001b[39;49m\u001b[43minit_score\u001b[49m\u001b[43m,\u001b[49m\u001b[43m \u001b[49m\u001b[43mpredictor\u001b[49m\u001b[38;5;241;43m=\u001b[39;49m\u001b[38;5;28;43mself\u001b[39;49m\u001b[38;5;241;43m.\u001b[39;49m\u001b[43m_predictor\u001b[49m\u001b[43m,\u001b[49m\n\u001b[0;32m   1818\u001b[0m \u001b[43m                    \u001b[49m\u001b[43msilent\u001b[49m\u001b[38;5;241;43m=\u001b[39;49m\u001b[38;5;28;43mself\u001b[39;49m\u001b[38;5;241;43m.\u001b[39;49m\u001b[43msilent\u001b[49m\u001b[43m,\u001b[49m\u001b[43m \u001b[49m\u001b[43mfeature_name\u001b[49m\u001b[38;5;241;43m=\u001b[39;49m\u001b[38;5;28;43mself\u001b[39;49m\u001b[38;5;241;43m.\u001b[39;49m\u001b[43mfeature_name\u001b[49m\u001b[43m,\u001b[49m\n\u001b[0;32m   1819\u001b[0m \u001b[43m                    \u001b[49m\u001b[43mcategorical_feature\u001b[49m\u001b[38;5;241;43m=\u001b[39;49m\u001b[38;5;28;43mself\u001b[39;49m\u001b[38;5;241;43m.\u001b[39;49m\u001b[43mcategorical_feature\u001b[49m\u001b[43m,\u001b[49m\u001b[43m \u001b[49m\u001b[43mparams\u001b[49m\u001b[38;5;241;43m=\u001b[39;49m\u001b[38;5;28;43mself\u001b[39;49m\u001b[38;5;241;43m.\u001b[39;49m\u001b[43mparams\u001b[49m\u001b[43m)\u001b[49m\n\u001b[0;32m   1820\u001b[0m \u001b[38;5;28;01mif\u001b[39;00m \u001b[38;5;28mself\u001b[39m\u001b[38;5;241m.\u001b[39mfree_raw_data:\n\u001b[0;32m   1821\u001b[0m     \u001b[38;5;28mself\u001b[39m\u001b[38;5;241m.\u001b[39mdata \u001b[38;5;241m=\u001b[39m \u001b[38;5;28;01mNone\u001b[39;00m\n",
      "File \u001b[1;32m~\\anaconda3\\lib\\site-packages\\lightgbm\\basic.py:1538\u001b[0m, in \u001b[0;36mDataset._lazy_init\u001b[1;34m(self, data, label, reference, weight, group, init_score, predictor, silent, feature_name, categorical_feature, params)\u001b[0m\n\u001b[0;32m   1536\u001b[0m     \u001b[38;5;28mself\u001b[39m\u001b[38;5;241m.\u001b[39m__init_from_csc(data, params_str, ref_dataset)\n\u001b[0;32m   1537\u001b[0m \u001b[38;5;28;01melif\u001b[39;00m \u001b[38;5;28misinstance\u001b[39m(data, np\u001b[38;5;241m.\u001b[39mndarray):\n\u001b[1;32m-> 1538\u001b[0m     \u001b[38;5;28;43mself\u001b[39;49m\u001b[38;5;241;43m.\u001b[39;49m\u001b[43m__init_from_np2d\u001b[49m\u001b[43m(\u001b[49m\u001b[43mdata\u001b[49m\u001b[43m,\u001b[49m\u001b[43m \u001b[49m\u001b[43mparams_str\u001b[49m\u001b[43m,\u001b[49m\u001b[43m \u001b[49m\u001b[43mref_dataset\u001b[49m\u001b[43m)\u001b[49m\n\u001b[0;32m   1539\u001b[0m \u001b[38;5;28;01melif\u001b[39;00m \u001b[38;5;28misinstance\u001b[39m(data, \u001b[38;5;28mlist\u001b[39m) \u001b[38;5;129;01mand\u001b[39;00m \u001b[38;5;28mlen\u001b[39m(data) \u001b[38;5;241m>\u001b[39m \u001b[38;5;241m0\u001b[39m:\n\u001b[0;32m   1540\u001b[0m     \u001b[38;5;28;01mif\u001b[39;00m \u001b[38;5;28mall\u001b[39m(\u001b[38;5;28misinstance\u001b[39m(x, np\u001b[38;5;241m.\u001b[39mndarray) \u001b[38;5;28;01mfor\u001b[39;00m x \u001b[38;5;129;01min\u001b[39;00m data):\n",
      "File \u001b[1;32m~\\anaconda3\\lib\\site-packages\\lightgbm\\basic.py:1659\u001b[0m, in \u001b[0;36mDataset.__init_from_np2d\u001b[1;34m(self, mat, params_str, ref_dataset)\u001b[0m\n\u001b[0;32m   1656\u001b[0m     data \u001b[38;5;241m=\u001b[39m np\u001b[38;5;241m.\u001b[39marray(mat\u001b[38;5;241m.\u001b[39mreshape(mat\u001b[38;5;241m.\u001b[39msize), dtype\u001b[38;5;241m=\u001b[39mnp\u001b[38;5;241m.\u001b[39mfloat32)\n\u001b[0;32m   1658\u001b[0m ptr_data, type_ptr_data, _ \u001b[38;5;241m=\u001b[39m c_float_array(data)\n\u001b[1;32m-> 1659\u001b[0m \u001b[43m_safe_call\u001b[49m\u001b[43m(\u001b[49m\u001b[43m_LIB\u001b[49m\u001b[38;5;241;43m.\u001b[39;49m\u001b[43mLGBM_DatasetCreateFromMat\u001b[49m\u001b[43m(\u001b[49m\n\u001b[0;32m   1660\u001b[0m \u001b[43m    \u001b[49m\u001b[43mptr_data\u001b[49m\u001b[43m,\u001b[49m\n\u001b[0;32m   1661\u001b[0m \u001b[43m    \u001b[49m\u001b[43mctypes\u001b[49m\u001b[38;5;241;43m.\u001b[39;49m\u001b[43mc_int\u001b[49m\u001b[43m(\u001b[49m\u001b[43mtype_ptr_data\u001b[49m\u001b[43m)\u001b[49m\u001b[43m,\u001b[49m\n\u001b[0;32m   1662\u001b[0m \u001b[43m    \u001b[49m\u001b[43mctypes\u001b[49m\u001b[38;5;241;43m.\u001b[39;49m\u001b[43mc_int32\u001b[49m\u001b[43m(\u001b[49m\u001b[43mmat\u001b[49m\u001b[38;5;241;43m.\u001b[39;49m\u001b[43mshape\u001b[49m\u001b[43m[\u001b[49m\u001b[38;5;241;43m0\u001b[39;49m\u001b[43m]\u001b[49m\u001b[43m)\u001b[49m\u001b[43m,\u001b[49m\n\u001b[0;32m   1663\u001b[0m \u001b[43m    \u001b[49m\u001b[43mctypes\u001b[49m\u001b[38;5;241;43m.\u001b[39;49m\u001b[43mc_int32\u001b[49m\u001b[43m(\u001b[49m\u001b[43mmat\u001b[49m\u001b[38;5;241;43m.\u001b[39;49m\u001b[43mshape\u001b[49m\u001b[43m[\u001b[49m\u001b[38;5;241;43m1\u001b[39;49m\u001b[43m]\u001b[49m\u001b[43m)\u001b[49m\u001b[43m,\u001b[49m\n\u001b[0;32m   1664\u001b[0m \u001b[43m    \u001b[49m\u001b[43mctypes\u001b[49m\u001b[38;5;241;43m.\u001b[39;49m\u001b[43mc_int\u001b[49m\u001b[43m(\u001b[49m\u001b[43mC_API_IS_ROW_MAJOR\u001b[49m\u001b[43m)\u001b[49m\u001b[43m,\u001b[49m\n\u001b[0;32m   1665\u001b[0m \u001b[43m    \u001b[49m\u001b[43mc_str\u001b[49m\u001b[43m(\u001b[49m\u001b[43mparams_str\u001b[49m\u001b[43m)\u001b[49m\u001b[43m,\u001b[49m\n\u001b[0;32m   1666\u001b[0m \u001b[43m    \u001b[49m\u001b[43mref_dataset\u001b[49m\u001b[43m,\u001b[49m\n\u001b[0;32m   1667\u001b[0m \u001b[43m    \u001b[49m\u001b[43mctypes\u001b[49m\u001b[38;5;241;43m.\u001b[39;49m\u001b[43mbyref\u001b[49m\u001b[43m(\u001b[49m\u001b[38;5;28;43mself\u001b[39;49m\u001b[38;5;241;43m.\u001b[39;49m\u001b[43mhandle\u001b[49m\u001b[43m)\u001b[49m\u001b[43m)\u001b[49m\u001b[43m)\u001b[49m\n\u001b[0;32m   1668\u001b[0m \u001b[38;5;28;01mreturn\u001b[39;00m \u001b[38;5;28mself\u001b[39m\n",
      "File \u001b[1;32m~\\anaconda3\\lib\\site-packages\\lightgbm\\basic.py:125\u001b[0m, in \u001b[0;36m_safe_call\u001b[1;34m(ret)\u001b[0m\n\u001b[0;32m    117\u001b[0m \u001b[38;5;124;03m\"\"\"Check the return value from C API call.\u001b[39;00m\n\u001b[0;32m    118\u001b[0m \n\u001b[0;32m    119\u001b[0m \u001b[38;5;124;03mParameters\u001b[39;00m\n\u001b[1;32m   (...)\u001b[0m\n\u001b[0;32m    122\u001b[0m \u001b[38;5;124;03m    The return value from C API calls.\u001b[39;00m\n\u001b[0;32m    123\u001b[0m \u001b[38;5;124;03m\"\"\"\u001b[39;00m\n\u001b[0;32m    124\u001b[0m \u001b[38;5;28;01mif\u001b[39;00m ret \u001b[38;5;241m!=\u001b[39m \u001b[38;5;241m0\u001b[39m:\n\u001b[1;32m--> 125\u001b[0m     \u001b[38;5;28;01mraise\u001b[39;00m LightGBMError(_LIB\u001b[38;5;241m.\u001b[39mLGBM_GetLastError()\u001b[38;5;241m.\u001b[39mdecode(\u001b[38;5;124m'\u001b[39m\u001b[38;5;124mutf-8\u001b[39m\u001b[38;5;124m'\u001b[39m))\n",
      "\u001b[1;31mLightGBMError\u001b[0m: Parameter verbosity should be of type int, got \"False\""
     ]
    }
   ],
   "source": [
    "%%time\n",
    "# обучим модель\n",
    "\n",
    "boost_regressor = lgb.LGBMRegressor(objective='regression', n_estimators=100, verbose=False)\n",
    "boost_regressor.fit(X_train, y_train, eval_set=[(X_valid, y_valid)], eval_metric=['rmse'])"
   ]
  },
  {
   "cell_type": "code",
   "execution_count": 56,
   "id": "422eb940",
   "metadata": {},
   "outputs": [
    {
     "name": "stdout",
     "output_type": "stream",
     "text": [
      "CPU times: total: 594 ms\n",
      "Wall time: 61.9 ms\n"
     ]
    }
   ],
   "source": [
    "%%time\n",
    "# выведем предсказание\n",
    "\n",
    "y_regr_pred = booster.predict(X_valid)"
   ]
  },
  {
   "cell_type": "code",
   "execution_count": 57,
   "id": "57ab12ab",
   "metadata": {},
   "outputs": [
    {
     "name": "stdout",
     "output_type": "stream",
     "text": [
      "1699\n"
     ]
    }
   ],
   "source": [
    "# метрика качества\n",
    "\n",
    "regr_mse = mean_squared_error(y_valid, y_regr_pred)\n",
    "regr_rmse = regr_mse**.5\n",
    "\n",
    "print(int(regr_rmse))"
   ]
  },
  {
   "cell_type": "markdown",
   "id": "f6f5e400",
   "metadata": {},
   "source": [
    "**Итог модели Регрессии градиентного бустинга**\n",
    "\n",
    " - Гиперпараметры - 100 итераций \n",
    " - Время обучения модели - 8.58 s, время предсказания - 1.19 s\n",
    " - Показатель RMSE - 1699 "
   ]
  },
  {
   "cell_type": "markdown",
   "id": "8eef532c",
   "metadata": {},
   "source": [
    "## Выбор лучшей модели "
   ]
  },
  {
   "cell_type": "code",
   "execution_count": 58,
   "id": "5ed755c3",
   "metadata": {},
   "outputs": [],
   "source": [
    "# сгруппируем итоги поиска наилучшей модели\n",
    "\n",
    "result = {'Время обучения' : ['93.8 ms ', '328 ms ', ' 2.95  s ', '7.25 ', '8.58 s '],\n",
    "          'Время предсказания': ['0 ns', '15.6 ns', '15.6 ns', '1 s', '1.19 s'],\n",
    "          'RMSE' : [3481, 2046, 2046, 1699, 1699]\n",
    "         }\n",
    "\n",
    "results = pd.DataFrame(data=result, index=['Линейная регрессия', \n",
    "                                           'Дерево решений', \n",
    "                                           'Случайный лес', \n",
    "                                           'Градиентный бустинг через train()', \n",
    "                                           'Регрессия градиентного бустинга'])\n",
    "results['Общее время'] = results['Время обучения'] + results['Время предсказания']"
   ]
  },
  {
   "cell_type": "code",
   "execution_count": 59,
   "id": "ac119114",
   "metadata": {},
   "outputs": [
    {
     "name": "stdout",
     "output_type": "stream",
     "text": [
      "Результаты по RMSE моделей\n"
     ]
    },
    {
     "data": {
      "text/html": [
       "<div>\n",
       "<style scoped>\n",
       "    .dataframe tbody tr th:only-of-type {\n",
       "        vertical-align: middle;\n",
       "    }\n",
       "\n",
       "    .dataframe tbody tr th {\n",
       "        vertical-align: top;\n",
       "    }\n",
       "\n",
       "    .dataframe thead th {\n",
       "        text-align: right;\n",
       "    }\n",
       "</style>\n",
       "<table border=\"1\" class=\"dataframe\">\n",
       "  <thead>\n",
       "    <tr style=\"text-align: right;\">\n",
       "      <th></th>\n",
       "      <th>Время обучения</th>\n",
       "      <th>Время предсказания</th>\n",
       "      <th>RMSE</th>\n",
       "      <th>Общее время</th>\n",
       "    </tr>\n",
       "  </thead>\n",
       "  <tbody>\n",
       "    <tr>\n",
       "      <th>Градиентный бустинг через train()</th>\n",
       "      <td>7.25</td>\n",
       "      <td>1 s</td>\n",
       "      <td>1699</td>\n",
       "      <td>7.25 1 s</td>\n",
       "    </tr>\n",
       "    <tr>\n",
       "      <th>Регрессия градиентного бустинга</th>\n",
       "      <td>8.58 s</td>\n",
       "      <td>1.19 s</td>\n",
       "      <td>1699</td>\n",
       "      <td>8.58 s 1.19 s</td>\n",
       "    </tr>\n",
       "    <tr>\n",
       "      <th>Дерево решений</th>\n",
       "      <td>328 ms</td>\n",
       "      <td>15.6 ns</td>\n",
       "      <td>2046</td>\n",
       "      <td>328 ms 15.6 ns</td>\n",
       "    </tr>\n",
       "    <tr>\n",
       "      <th>Случайный лес</th>\n",
       "      <td>2.95  s</td>\n",
       "      <td>15.6 ns</td>\n",
       "      <td>2046</td>\n",
       "      <td>2.95  s 15.6 ns</td>\n",
       "    </tr>\n",
       "    <tr>\n",
       "      <th>Линейная регрессия</th>\n",
       "      <td>93.8 ms</td>\n",
       "      <td>0 ns</td>\n",
       "      <td>3481</td>\n",
       "      <td>93.8 ms 0 ns</td>\n",
       "    </tr>\n",
       "  </tbody>\n",
       "</table>\n",
       "</div>"
      ],
      "text/plain": [
       "                                  Время обучения Время предсказания  RMSE  \\\n",
       "Градиентный бустинг через train()          7.25                 1 s  1699   \n",
       "Регрессия градиентного бустинга          8.58 s              1.19 s  1699   \n",
       "Дерево решений                           328 ms             15.6 ns  2046   \n",
       "Случайный лес                           2.95  s             15.6 ns  2046   \n",
       "Линейная регрессия                      93.8 ms                0 ns  3481   \n",
       "\n",
       "                                        Общее время  \n",
       "Градиентный бустинг через train()          7.25 1 s  \n",
       "Регрессия градиентного бустинга       8.58 s 1.19 s  \n",
       "Дерево решений                       328 ms 15.6 ns  \n",
       "Случайный лес                       2.95  s 15.6 ns  \n",
       "Линейная регрессия                     93.8 ms 0 ns  "
      ]
     },
     "metadata": {},
     "output_type": "display_data"
    }
   ],
   "source": [
    "# результаты по RMSE моделей\n",
    "\n",
    "print('Результаты по RMSE моделей')\n",
    "\n",
    "display(results.sort_values(by='RMSE'))"
   ]
  },
  {
   "cell_type": "markdown",
   "id": "2cf7f74f",
   "metadata": {},
   "source": [
    "**Вывод**\n",
    "\n",
    " - Самый низкий показатель RMSE (ошибка в 1699 евро) и самое высокое качество у моделей градиентного бустинга, однако у них самое высокое время работы - время обучения 7.25 s и время предсказания 1 s для градиентного бустинга через train(); и время обучения 8.58 s и время предсказания 1.19 s для регрессии градиентного бустинга.\n",
    " \n",
    "Несмотря на высокое качество модели применять ее нецелевообразно из-за долгого времени работы.\n",
    " \n",
    " - Немного выше показатель RMSE имеет модель Дерева решений (2046), при этом ее время достаточно быстрое - 328 ms обучения и 15.6 ns предсказания.\n",
    " \n",
    " Эту модель мы будем в дальнейшем использовать и проведем на ней тестирование."
   ]
  },
  {
   "cell_type": "markdown",
   "id": "0fdd1efb",
   "metadata": {},
   "source": [
    "# Тест"
   ]
  },
  {
   "cell_type": "markdown",
   "id": "fb047b70",
   "metadata": {},
   "source": [
    "Выведем алгоритм модели, с которой будем работать."
   ]
  },
  {
   "cell_type": "code",
   "execution_count": 60,
   "id": "3aed1e46",
   "metadata": {},
   "outputs": [],
   "source": [
    "def predict_price(X_train, y_train, X_test, y_test):\n",
    "    \n",
    "    model = DecisionTreeRegressor(max_depth=9, min_samples_leaf=5, min_samples_split=4, random_state=123)\n",
    "    \n",
    "    # обучаем модель\n",
    "    model.fit(X_train, y_train)\n",
    "    \n",
    "    # выводим предсказание\n",
    "    y_pred = model.predict(X_test)\n",
    "    \n",
    "    # метрика качества\n",
    "    mse = mean_squared_error(y_test, y_pred)\n",
    "    rmse = mse**.5\n",
    "    \n",
    "    return int(rmse)"
   ]
  },
  {
   "cell_type": "code",
   "execution_count": 61,
   "id": "78095674",
   "metadata": {},
   "outputs": [
    {
     "name": "stdout",
     "output_type": "stream",
     "text": [
      "RMSE тестовой выборки 2040\n",
      "CPU times: total: 391 ms\n",
      "Wall time: 303 ms\n"
     ]
    }
   ],
   "source": [
    "%%time\n",
    "# воспользуемся функцией\n",
    "\n",
    "test_rmse = predict_price(X_common, y_common, X_test, y_test)\n",
    "\n",
    "print('RMSE тестовой выборки', test_rmse)"
   ]
  },
  {
   "cell_type": "markdown",
   "id": "99a75db6",
   "metadata": {},
   "source": [
    "# Итог работы"
   ]
  },
  {
   "cell_type": "markdown",
   "id": "ca62e4b9",
   "metadata": {},
   "source": [
    "1. Была проведена предобработка данных:\n",
    "\n",
    "  - проверка мультиколлениарности признаков \n",
    "  - удаление неинформативных для модели колонок\n",
    "  - проверка на полные дубликаты\n",
    "  - работа с аномальными признаками\n",
    "  - работа с пропусками в данных\n",
    "  - кодирование категориальных признаков OrdinalEncoder\n",
    "  - стандартизация признаков обучения\n",
    "  \n",
    "  \n",
    "2. Проведен анализ следующих моделей:\n",
    "\n",
    "  - Линейная регрессия\n",
    "  - Вывод оптимального Дерева решений поиском по сетке GridSearchCV\n",
    "  - Вывод оптимального Случайного леса поиском по сетке GridSearchCV\n",
    "  - Градиентный бустинг на основе деревьев методом train\n",
    "  - Градиентный бустинг с помощью LGBMRegressor-а\n",
    "  \n",
    "По итогу анализа моделей можно сделать следующие выводы:\n",
    "\n",
    " - Самое лучшее качество (RMSE 1718) показали модели градиентного бустинга, однако их время работы самое долгое (7-8 секунд обучение и 1 секунда и выше предсказание)\n",
    " - Второе место по качеству (RMSE 2093) занимают модели Дерева решений и Случайного леса, при этом время работы Дерева решений ожидаемо более низкое (328 ms обучение и 15.6 ns предсказание) по сравнению с Случайным лесом (2.95 s обучение и 15.6 ns предсказание)\n",
    " - Модель Линейной регрессии работает крайне быстро (93.8 ms обучение и 0 ns предсказание), однако ее качество крайне низкое (RMSE 3481) - и превышает желаемый показатель метрики \n",
    " \n",
    "3. На основе анализа моделей итоговой выбрана модель Дерева решений с подобранными ранее гиперпараметрами. Построена функция для работы модели.\n",
    "\n",
    "Итоговое время обучения модели и предсказания составило 391 ms. RMSE тестовой выборки - 2040. "
   ]
  }
 ],
 "metadata": {
  "ExecuteTimeLog": [
   {
    "duration": 1539,
    "start_time": "2023-02-09T06:07:32.832Z"
   },
   {
    "duration": 1557,
    "start_time": "2023-02-09T06:07:34.372Z"
   },
   {
    "duration": 15,
    "start_time": "2023-02-09T06:07:45.369Z"
   },
   {
    "duration": 130,
    "start_time": "2023-02-09T06:07:46.631Z"
   },
   {
    "duration": 93,
    "start_time": "2023-02-09T06:07:47.989Z"
   },
   {
    "duration": 528,
    "start_time": "2023-02-09T06:07:51.146Z"
   },
   {
    "duration": 25,
    "start_time": "2023-02-09T06:09:29.751Z"
   },
   {
    "duration": 46,
    "start_time": "2023-02-09T06:10:21.590Z"
   },
   {
    "duration": 178,
    "start_time": "2023-02-09T06:10:23.791Z"
   },
   {
    "duration": 324,
    "start_time": "2023-02-09T06:10:26.205Z"
   },
   {
    "duration": 8,
    "start_time": "2023-02-09T06:10:56.441Z"
   },
   {
    "duration": 24,
    "start_time": "2023-02-09T06:10:59.645Z"
   },
   {
    "duration": 7,
    "start_time": "2023-02-09T06:11:22.731Z"
   },
   {
    "duration": 10,
    "start_time": "2023-02-09T06:11:24.904Z"
   },
   {
    "duration": 8,
    "start_time": "2023-02-09T06:11:26.195Z"
   },
   {
    "duration": 18,
    "start_time": "2023-02-09T06:11:43.355Z"
   },
   {
    "duration": 21,
    "start_time": "2023-02-09T06:11:45.330Z"
   },
   {
    "duration": 7752,
    "start_time": "2023-02-09T06:23:23.406Z"
   },
   {
    "duration": 6,
    "start_time": "2023-02-09T06:23:45.405Z"
   },
   {
    "duration": 249,
    "start_time": "2023-02-09T06:23:45.870Z"
   },
   {
    "duration": 4,
    "start_time": "2023-02-09T06:23:47.942Z"
   },
   {
    "duration": 22,
    "start_time": "2023-02-09T06:23:48.521Z"
   },
   {
    "duration": 65,
    "start_time": "2023-02-09T06:24:08.443Z"
   },
   {
    "duration": 3,
    "start_time": "2023-02-09T06:24:11.167Z"
   },
   {
    "duration": 72,
    "start_time": "2023-02-09T06:24:29.820Z"
   },
   {
    "duration": 63,
    "start_time": "2023-02-09T06:24:48.770Z"
   },
   {
    "duration": 3,
    "start_time": "2023-02-09T06:24:52.516Z"
   },
   {
    "duration": 3,
    "start_time": "2023-02-09T06:24:55.403Z"
   },
   {
    "duration": 483,
    "start_time": "2023-02-09T06:25:12.925Z"
   },
   {
    "duration": 15,
    "start_time": "2023-02-09T06:25:17.420Z"
   },
   {
    "duration": 12,
    "start_time": "2023-02-09T06:25:19.653Z"
   },
   {
    "duration": 4,
    "start_time": "2023-02-09T06:25:23.647Z"
   },
   {
    "duration": 12,
    "start_time": "2023-02-09T06:26:58.634Z"
   },
   {
    "duration": 3,
    "start_time": "2023-02-09T06:26:59.091Z"
   },
   {
    "duration": 28,
    "start_time": "2023-02-09T06:27:01.272Z"
   },
   {
    "duration": 17,
    "start_time": "2023-02-09T06:27:05.885Z"
   },
   {
    "duration": 76,
    "start_time": "2023-02-09T06:27:34.806Z"
   },
   {
    "duration": 4,
    "start_time": "2023-02-09T06:27:35.336Z"
   },
   {
    "duration": 54,
    "start_time": "2023-02-09T06:27:59.945Z"
   },
   {
    "duration": 9,
    "start_time": "2023-02-09T06:28:01.746Z"
   },
   {
    "duration": 4,
    "start_time": "2023-02-09T06:28:05.358Z"
   }
  ],
  "kernelspec": {
   "display_name": "Python 3 (ipykernel)",
   "language": "python",
   "name": "python3"
  },
  "language_info": {
   "codemirror_mode": {
    "name": "ipython",
    "version": 3
   },
   "file_extension": ".py",
   "mimetype": "text/x-python",
   "name": "python",
   "nbconvert_exporter": "python",
   "pygments_lexer": "ipython3",
   "version": "3.9.12"
  },
  "toc": {
   "base_numbering": 1,
   "nav_menu": {},
   "number_sections": true,
   "sideBar": true,
   "skip_h1_title": false,
   "title_cell": "Table of Contents",
   "title_sidebar": "Contents",
   "toc_cell": false,
   "toc_position": {
    "height": "calc(100% - 180px)",
    "left": "10px",
    "top": "150px",
    "width": "303.825px"
   },
   "toc_section_display": true,
   "toc_window_display": true
  }
 },
 "nbformat": 4,
 "nbformat_minor": 5
}
